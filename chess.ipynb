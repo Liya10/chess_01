{
 "cells": [
  {
   "cell_type": "code",
   "execution_count": 1,
   "id": "f5b2d955",
   "metadata": {},
   "outputs": [],
   "source": [
    "VKing=1000\n",
    "VQueen=100\n",
    "VBishop=40\n",
    "VKnight=45\n",
    "VRook=60\n",
    "VPawn=10"
   ]
  },
  {
   "cell_type": "code",
   "execution_count": 2,
   "id": "8fecb489",
   "metadata": {},
   "outputs": [],
   "source": [
    "def abs_(x):\n",
    "    if(x>0):\n",
    "        return x\n",
    "    return -x\n",
    "class Color(object):\n",
    "    EMPTY=0\n",
    "    BLACK=1\n",
    "    WHITE=2\n",
    "class HowCasting(object):\n",
    "    NONE=1\n",
    "    LEFT=2\n",
    "    RIGHT=3\n",
    "    ALL=6\n",
    "class Piece(object):\n",
    "    IMG= None\n",
    "    NAME=None\n",
    "    STRAIGHT_LINE = [[1,0],[-1,0],[0,1],[0,-1]]\n",
    "    DIAGONAL_LINE = [[1,1],[-1,1],[1,-1],[-1,-1]]\n",
    "    \n",
    "    @staticmethod\n",
    "    def count_step(x,x_):\n",
    "        if(x_>0):\n",
    "            return 7-x\n",
    "        return x\n",
    "\n",
    "    def __init__(self,x,y,color,value):\n",
    "        self.color=color\n",
    "        self.x=x\n",
    "        self.y=y\n",
    "        self.value=value\n",
    "\n",
    "    def get_possible_line_moves(self, board, how_line, step=8):\n",
    "        enemy_color=Color.BLACK+Color.WHITE-self.color\n",
    "        legal_moves=[]\n",
    "        for x_,y_ in how_line:\n",
    "            for i in range(1,min(step,min(self.count_step(self.x,x_),self.count_step(self.y,y_)))+1):\n",
    "                if(board[self.y+y_*i][self.x+x_*i].color==Color.EMPTY):\n",
    "                    legal_moves.append([self.x+x_*i,self.y+y_*i])\n",
    "                else:\n",
    "                    if (board[self.y+y_*i][self.x+x_*i].color==enemy_color):\n",
    "                        legal_moves.append([self.x+x_*i,self.y+y_*i])\n",
    "                    break\n",
    "        return legal_moves\n",
    "\n",
    "    def control_straight_line(self,board,x_,y_):\n",
    "        dist_x=abs_(self.x-x_)\n",
    "        dist_y=abs_(self.y-y_)\n",
    "        if(min(dist_x,dist_y)!=0):\n",
    "            return False\n",
    "        if(dist_x==dist_y):\n",
    "            return True\n",
    "        if(dist_x==0):\n",
    "            direction_y=(y_-self.y)//dist_y\n",
    "            for i in range(1,dist_y):\n",
    "                if(board[self.y+direction_y*i][x_].NAME!='Empty'):\n",
    "                    return False\n",
    "        else:\n",
    "            direction_x=(x_-self.x)//dist_x\n",
    "            for i in range(1,dist_x):\n",
    "                if(board[y_][self.x+direction_x*i].NAME!='Empty'):\n",
    "                    return False\n",
    "        return True\n",
    "    def control_diagonal_line(self,board,x_,y_):\n",
    "        dist_x=abs_(self.x-x_)\n",
    "        dist_y=abs_(self.y-y_)\n",
    "        if(dist_x!=dist_y):\n",
    "            return False\n",
    "        if(dist_x==0):\n",
    "            return True\n",
    "        direction_x=(x_-self.x)//dist_x\n",
    "        direction_y=(y_-self.y)//dist_y\n",
    "        for i in range(1,dist_x):\n",
    "            if(board[self.y+direction_y*i][self.x+direction_x*i].NAME!='Empty'):\n",
    "                return False\n",
    "        return True\n",
    "        \n",
    "    def __repr__(self):\n",
    "        return self.IMG[self.color==Color.BLACK]\n",
    "\n",
    "    "
   ]
  },
  {
   "cell_type": "code",
   "execution_count": 3,
   "id": "7b67dec6",
   "metadata": {},
   "outputs": [],
   "source": [
    "class Empty(Piece):\n",
    "    NAME='Empty'\n",
    "    def __init__(self,x,y,value):\n",
    "        super().__init__(x,y,Color.EMPTY,value)\n",
    "    def get_moves(self,board,last_move):\n",
    "        raise Exception(\"Error! Здесь нет фигуры!\")\n",
    "    def __repr__(self):\n",
    "        return '.'\n",
    "    def clone(self):\n",
    "        return Empty(self.x,self.y,self.color,self.value)\n",
    "    \n",
    "class King(Piece):\n",
    "    IMG=('♔', '♚')\n",
    "    NAME='King'\n",
    "    def __init__(self, x,y,color,value, howCasting_=HowCasting.ALL):\n",
    "        self.howCasting=howCasting_\n",
    "        super().__init__(x,y,color,value)\n",
    "    def get_moves(self,board,last_move):\n",
    "        legal_moves=self.get_possible_line_moves(board,self.STRAIGHT_LINE,1)+self.get_possible_line_moves(board,self.DIAGONAL_LINE,1)\n",
    "        #проверка рокировки\n",
    "        if(self.howCasting%HowCasting.LEFT==0):\n",
    "            if(board[self.y][1].NAME=='Empty' \n",
    "               and board[self.y][2].NAME=='Empty' \n",
    "               and board[self.y][3].NAME=='Empty'):\n",
    "                legal_moves.append([2,self.y])\n",
    "        if(self.howCasting%HowCasting.RIGHT==0):\n",
    "            if(board[self.y][6].NAME=='Empty'\n",
    "               and board[self.y][5].NAME=='Empty'):\n",
    "                legal_moves.append([6,self.y])\n",
    "        return legal_moves\n",
    "    def clone(self):\n",
    "        return King(self.x,self.y,self.color,self.value)\n",
    "    \n",
    "    def IsItControl(self, board,x_,y_):\n",
    "        dist_x=abs_(self.x-x_)\n",
    "        dist_y=abs_(self.y-y_)\n",
    "        return (dist_x<2)+(dist_y<2)==2\n",
    "class Queen(Piece):\n",
    "    IMG=('♕', '♛')\n",
    "    NAME='Queen'\n",
    "    def get_moves(self,board,last_move):\n",
    "        legal_moves=self.get_possible_line_moves(board,self.STRAIGHT_LINE)+self.get_possible_line_moves(board,self.DIAGONAL_LINE)\n",
    "        return legal_moves\n",
    "    def clone(self):\n",
    "        return Queen(self.x,self.y,self.color,self.value)\n",
    "    def IsItControl (self, board, x_,y_):\n",
    "        return self.control_straight_line(board,x_,y_) or self.control_diagonal_line(board,x_,y_)\n",
    "\n",
    "class Bishop(Piece):\n",
    "    IMG=('♗', '♝')\n",
    "    NAME='Bishop'\n",
    "    def get_moves(self,board,last_move):\n",
    "        legal_moves=self.get_possible_line_moves(board,self.DIAGONAL_LINE)\n",
    "        return legal_moves\n",
    "    def clone(self):\n",
    "        return  Bishop(self.x,self.y,self.color,self.value)\n",
    "    def IsItControl (self,board, x_,y_):\n",
    "        return self.control_diagonal_line(board,x_,y_)\n",
    "class Rook(Piece):\n",
    "    IMG=('♖', '♜')\n",
    "    NAME='Rook'\n",
    "    def get_moves(self,board,last_move):\n",
    "        legal_moves=self.get_possible_line_moves(board,self.STRAIGHT_LINE)\n",
    "        return legal_moves\n",
    "    def clone(self):\n",
    "        return Rook(self.x,self.y,self.color,self.value)\n",
    "    def IsItControl (self, board, x_,y_):\n",
    "        return self.control_straight_line(board,x_,y_)\n",
    "class Knight(Piece):\n",
    "    IMG=('♘', '♞')\n",
    "    NAME='Knight'\n",
    "    def get_moves(self,board,last_move):\n",
    "        legal_moves=[]\n",
    "        enemy_color=Color.BLACK+Color.WHITE-self.color\n",
    "        for x_,y_ in self.DIAGONAL_LINE:\n",
    "            if(self.y+2*y_<=7 and self.y+2*y_>=0 and self.x+x_<8 and self.x+x_>=0):\n",
    "                if(board[self.y+2*y_][self.x+x_].color!=self.color):\n",
    "                    legal_moves.append([self.x+x_,self.y+2*y_])\n",
    "            if(self.y+y_<=7 and self.y+y_>=0 and self.x+2*x_<8 and self.x+2*x_>=0):\n",
    "                if(board[self.y+y_][self.x+2*x_].color!=self.color):\n",
    "                    legal_moves.append([self.x+2*x_,self.y+y_])\n",
    "        return legal_moves\n",
    "    def clone(self):\n",
    "        return Knight(self.x,self.y,self.color,self.value)\n",
    "    def IsItControl (self, board,x_,y_):\n",
    "        dist_x=abs_(self.x-x_)\n",
    "        dist_y=abs_(self.y-y_)\n",
    "        return (dist_x==2 and dist_y==1) or (dist_x==1 and dist_y==2)\n",
    "class Pawn(Piece):\n",
    "    IMG=('♙', '♟')\n",
    "    NAME='Pawn'\n",
    "\n",
    "        \n",
    "    def get_moves(self,board,last_move):\n",
    "        legal_moves=[]\n",
    "        enemy_color=Color.BLACK+Color.WHITE-self.color\n",
    "\n",
    "        ##ход по диагонали, если стоит пешка противника\n",
    "        if(self.x+1<7 and board[self.y+self.color-enemy_color][self.x+1].color==enemy_color):\n",
    "            legal_moves.append([self.x+1,self.y+self.color-enemy_color])\n",
    "        if(self.x-1>=0 and board[self.y+self.color-enemy_color][self.x-1].color==enemy_color):\n",
    "            legal_moves.append([self.x-1,self.y+self.color-enemy_color])\n",
    "        ##ход вперед на 1 клетку, если там свободна\n",
    "        if(board[self.y+self.color-enemy_color][self.x].color==Color.EMPTY):\n",
    "            legal_moves.append([self.x,self.y+self.color-enemy_color])\n",
    "        ##ход на 2 клетки вперед, если в этих двух клетках свободна и пешка находится в начале\n",
    "        if(self.y==1+5*(self.color==Color.BLACK)):\n",
    "            if(board[self.y+(self.color-enemy_color)*2][self.x].color==Color.EMPTY \n",
    "               and board[self.y+self.color-enemy_color][self.x].color==Color.EMPTY):\n",
    "                legal_moves.append([self.x,self.y+(self.color-enemy_color)*2])\n",
    "        ##взятие на проходе\n",
    "        if(last_move is not None):\n",
    "            last_xy_from=last_move[0] #для этого мы должны знать последний ход противника\n",
    "            last_xy_to=last_move[1] #это должен быть ход пешкой на 2 клетки вперед\n",
    "                                    #тогда ее можно подрезать\n",
    "            if(self.y==3+(self.color==Color.WHITE) and last_xy_to[1]==self.y and abs_(self.x-last_xy_to[0])==1 \n",
    "            and board[last_xy_to[1]][last_xy_to[0]].NAME=='Pawn' ):\n",
    "                legal_moves.append([last_xy_to[0],self.y+self.color-enemy_color])\n",
    "                \n",
    "        return legal_moves\n",
    "    def clone(self):\n",
    "        return Pawn(self.x,self.y,self.color,self.value)\n",
    "    def IsItControl (self,board, x_,y_):\n",
    "        dist_x=abs_(self.x-x_)\n",
    "        enemy_color=Color.BLACK+Color.WHITE-self.color\n",
    "        return dist_x==1 and y_==self.y+self.color-enemy_color\n",
    "        "
   ]
  },
  {
   "cell_type": "code",
   "execution_count": 20,
   "id": "9f864e44",
   "metadata": {},
   "outputs": [],
   "source": [
    "class Board(object):\n",
    "    ##тут нужна функция предглагающая возможные ходы\n",
    "    ##проверка мата, это когда королю шах и он не может выйти из шаха\n",
    "    ##проверка пата, нет возможных ходов и но у короля нет шаха\n",
    "    \n",
    "    def __init__(self,chesspieces_=None, whose_move_=Color.WHITE, last_move_=None):\n",
    "        \n",
    "        self.whose_move=whose_move_#чей ход\n",
    "        self.last_move=last_move_#последний ход\n",
    "        self.king={}\n",
    "        if(chesspieces_):#задана расстановка фигур\n",
    "            self.chesspieces=chesspieces_#сохраняем расстановку фигур\n",
    "        else:#иначе создаем расстановку\n",
    "            self.chesspieces={#может тут добавить информацию о состоянии рокировки?\n",
    "                Color.WHITE:[King(4,0,Color.WHITE,VKing), Queen(3,0,Color.WHITE,VQueen),\n",
    "                             Knight(1,0,Color.WHITE,VKnight),Knight(6,0,Color.WHITE,VKnight),\n",
    "                             Bishop(2,0,Color.WHITE,VBishop),Bishop(5,0,Color.WHITE,VBishop), \n",
    "                             Rook(0,0,Color.WHITE,VRook),Rook(7,0,Color.WHITE,VRook)] +[Pawn(x,1,Color.WHITE,VPawn) for x in range(8)],\n",
    "                Color.BLACK:[King(4,7,Color.BLACK,VKing), Queen(3,7,Color.BLACK,VQueen),\n",
    "                             Knight(1,7,Color.BLACK,VKnight),Knight(6,7,Color.BLACK,VKnight),\n",
    "                            Bishop(2,7,Color.BLACK,VBishop),Bishop(5,7,Color.BLACK,VBishop), \n",
    "                            Rook(0,7,Color.BLACK,VRook),Rook(7,7,Color.BLACK,VRook)]+[Pawn(x,6,Color.BLACK,VPawn) for x in range(8)]\n",
    "            }\n",
    "        for piece in self.chesspieces[Color.WHITE]:\n",
    "            if(piece.NAME=='King'):\n",
    "                self.king[Color.WHITE]=[piece.x,piece.y]\n",
    "                break\n",
    "        for piece in self.chesspieces[Color.BLACK]:\n",
    "            if(piece.NAME=='King'):\n",
    "                self.king[Color.BLACK]=[piece.x,piece.y]\n",
    "                break\n",
    "                \n",
    "        self.board=Board.init_board(self.chesspieces)#создаем доску по расстановке\n",
    "        \n",
    "    @staticmethod\n",
    "    def init_board(chesspieces):## иницилизация доски с помощью разметки\n",
    "        board=[[Empty(x,y,0) for x in range(8)] for y in range(8)] ## создаем доску 8 на 8\n",
    "        Board.init_board_for_one_color(board, chesspieces[Color.WHITE]) #иницилизируем белые фигуры\n",
    "        Board.init_board_for_one_color(board, chesspieces[Color.BLACK]) #иницилизируем черные фигуры\n",
    "        return board #возвращаем доску\n",
    "    @staticmethod\n",
    "    def init_board_for_one_color(board, chesspieces): #иницилизируем доску определенного цвета\n",
    "        for piece in  chesspieces:\n",
    "            if(board[piece.y][piece.x].NAME=='Empty'):\n",
    "                board[piece.y][piece.x]=piece\n",
    "            else:\n",
    "                raise Exception(\"Error! Не правильная расстановка!\")\n",
    "    def __repr__(self):\n",
    "        res=''\n",
    "        for line in self.board:\n",
    "            res=''.join(map(str,line))+'\\n'+res         \n",
    "        return res\n",
    "    def get_moves(self,x,y):\n",
    "        return self.board[y][x].get_moves(self.board,self.last_move)\n",
    "    def get_legal_moves(self):\n",
    "        legal_moves=[]\n",
    "        for piece in self.chesspieces[self.whose_move]:\n",
    "            moves=piece.get_moves(self.board,self.last_move)\n",
    "            for move in moves:\n",
    "                if(piece.NAME=='King'):\n",
    "                    king=move\n",
    "                else:\n",
    "                    king=self.king[self.whose_move]\n",
    "                copy=Board.clone(self)\n",
    "                copy.move([piece.x,piece.y],move)\n",
    "                NotCheck=True\n",
    "                for piece_copy in copy.chesspieces[copy.whose_move]:\n",
    "                    if(piece_copy.IsItControl(self.board,king[0],king[1])):\n",
    "                        NotCheck=False\n",
    "                        break\n",
    "                if(NotCheck):\n",
    "                    legal_moves.append([[piece.x,piece.y],move])\n",
    "        return legal_moves\n",
    "    def move(self, xy_from, xy_to):\n",
    "        #тут должны быть проверки!!!\n",
    "        if(self.board[xy_from[1]][xy_from[0]].color!=self.whose_move):\n",
    "            raise Exception(\"Error! Не Ваш ход!\")\n",
    "        \n",
    "        enemy_color=Color.WHITE+Color.BLACK-self.whose_move\n",
    "        legal_moves=self.get_moves(xy_from[0],xy_from[1])\n",
    "        if xy_to in legal_moves:\n",
    "            \n",
    "            #было ли взятие на проходе?\n",
    "            if(self.board[xy_from[1]][xy_from[0]].NAME=='Pawn' and abs_(xy_from[0]-xy_to[0])==1\n",
    "               and self.board[xy_to[1]][xy_to[0]].NAME=='Empty'):\n",
    "                #нужно удалить ту пешку из доски и расстановки фигур\n",
    "                pawn=self.board[self.last_move[1][1]][self.last_move[1][0]]\n",
    "                self.chesspieces[enemy_color].remove(pawn)#? не знаю насколько это корректно, нужно затестить\n",
    "                self.board[pawn.y][pawn.x]=Empty(pawn.x,pawn.y,0)\n",
    "                \n",
    "            #произошла рокировка?\n",
    "            #проверяем что фигура король и возможна ли рокировка\n",
    "            if(self.board[xy_from[1]][xy_from[0]].NAME=='King' \n",
    "               and self.board[xy_from[1]][xy_from[0]].howCasting>HowCasting.NONE):\n",
    "                if(xy_from[1]==xy_to[1] and (xy_to[0]==2 or xy_to[0]==6)):\n",
    "                    self.board[xy_from[1]][xy_from[0]].howCasting=HowCasting.NONE\n",
    "                    #нужно переместить ладью\n",
    "                    if(xy_to[0]==2):\n",
    "                        piece=self.board[xy_from[1]][0]\n",
    "                        piece.x=3\n",
    "                        self.board[xy_from[1]][0]=Empty(0,xy_from[1],0)\n",
    "                        self.board[xy_from[1]][3]=piece\n",
    "                    else:\n",
    "                        piece=self.board[xy_from[1]][7]\n",
    "                        piece.x=5\n",
    "                        self.board[xy_from[1]][7]=Empty(7,xy_from[1],0)\n",
    "                        self.board[xy_from[1]][5]=piece\n",
    "                else:\n",
    "                    self.board[xy_from[1]][xy_from[0]].howCasting=HowCasting.NONE\n",
    "            #мы ходим ладьей? если да, то если возможность у короля рокироваться?\n",
    "            piece_king=self.board[self.king[self.whose_move][1]][self.king[self.whose_move][0]]\n",
    "            if(self.board[xy_from[1]][xy_from[0]].NAME=='Rook' and \n",
    "               piece_king.howCasting>HowCasting.NONE):\n",
    "                \n",
    "                if(piece_king.howCasting%HowCasting.LEFT==0 and xy_from[0]==0):\n",
    "                    piece_king.howCasting/=HowCasting.LEFT\n",
    "                elif(piece_king.howCasting%HowCasting.RIGHT==0 and xy_from[0]==7):\n",
    "                    piece_king.howCasting/=HowCasting.RIGHT\n",
    "            #\n",
    "            #мы съели фигуру противника?\n",
    "            if(self.board[xy_to[1]][xy_to[0]].color==enemy_color):\n",
    "                piece=self.board[xy_to[1]][xy_to[0]]\n",
    "                self.chesspieces[enemy_color].remove(piece)#удаляем из расстаноки фигур\n",
    "            #теперь реализуем ход\n",
    "            piece=self.board[xy_from[1]][xy_from[0]]\n",
    "            self.chesspieces[self.whose_move].remove(piece)\n",
    "            self.board[xy_from[1]][xy_from[0]]=Empty(piece.x,piece.y,0)\n",
    "            piece.x=xy_to[0]\n",
    "            piece.y=xy_to[1]\n",
    "            self.chesspieces[self.whose_move].append(piece)\n",
    "            self.board[xy_to[1]][xy_to[0]]=piece\n",
    "\n",
    "            self.whose_move=enemy_color\n",
    "            self.last_move=[xy_from, xy_to]\n",
    "        else:\n",
    "            raise Exception(\"Error! Ход не корректен!\")\n",
    "    def get_moves(self,x,y):\n",
    "        return self.board[y][x].get_moves(self.board,self.last_move)\n",
    "    def scores(self, color):\n",
    "        scores=0\n",
    "        for piece in self.chesspieces[color]:\n",
    "            if(piece.NAME=='Pawn'):\n",
    "                count_pawn_on_line=0\n",
    "                for y_ in range(1,7):\n",
    "                    if(self.board[y_][piece.x].NAME=='Pawn' and self.board[y_][piece.x].color==color):\n",
    "                        count_pawn_on_line+=1 \n",
    "                position_pawn=piece.y*10\n",
    "                if(color==Color.BLACK):\n",
    "                    position_pawn=(7-piece.y)*10\n",
    "                if(piece.x==0 or piece.x==7):\n",
    "                    scores+=position_pawn/(2*count_pawn_on_line)\n",
    "                else:\n",
    "                    count_neigbor=0\n",
    "                    if((self.board[piece.y-1][piece.x-1].NAME=='Pawn' and self.board[piece.y-1][piece.x-1].color==color)\n",
    "                        or (self.board[piece.y][piece.x-1].NAME=='Pawn'and self.board[piece.y][piece.x-1].color==color)\n",
    "                        or (self.board[piece.y+1][piece.x-1].NAME=='Pawn'and self.board[piece.y+1][piece.x-1].color==color)):\n",
    "                        count_neigbor+=1\n",
    "                    if((self.board[piece.y-1][piece.x+1].NAME=='Pawn' and self.board[piece.y-1][piece.x+1].color==color)\n",
    "                        or (self.board[piece.y][piece.x+1].NAME=='Pawn' and self.board[piece.y][piece.x+1].color==color)\n",
    "                        or (self.board[piece.y+1][piece.x+1].NAME=='Pawn' and self.board[piece.y+1][piece.x+1].color==color)):\n",
    "                        count_neigbor+=1\n",
    "                        \n",
    "                    scores+=position_pawn*(1+count_neigbor/8.)/count_pawn_on_line\n",
    "            elif(piece.NAME=='King'):\n",
    "                scores+=900\n",
    "            else:#Bishop, Knight,Rook, Queen\n",
    "                #здесь важно расположение фигур друг относительно друга\n",
    "                moves=piece.get_moves(self.board,self.last_move)\n",
    "                scores+=5*len(moves)+piece.value\n",
    "    \n",
    "        return scores\n",
    "    def get_Name(self,x,y):\n",
    "        return self.board[y][x].get_Name()\n",
    "\n",
    "    @classmethod\n",
    "    def clone(cls, board):\n",
    "        chesspieces_white=[piece.clone() for piece in board.chesspieces[Color.WHITE]]\n",
    "        chesspieces_black=[piece.clone() for piece in board.chesspieces[Color.BLACK]]\n",
    "        chesspieces={Color.WHITE:chesspieces_white, Color.BLACK:chesspieces_black}\n",
    "        return cls(chesspieces, board.whose_move, board.last_move)\n",
    "    @classmethod\n",
    "    def new(cls):\n",
    "        return cls()"
   ]
  },
  {
   "cell_type": "code",
   "execution_count": 5,
   "id": "3da94a5d",
   "metadata": {},
   "outputs": [
    {
     "data": {
      "text/plain": [
       "0"
      ]
     },
     "execution_count": 5,
     "metadata": {},
     "output_type": "execute_result"
    }
   ],
   "source": [
    "6%2"
   ]
  },
  {
   "cell_type": "code",
   "execution_count": 6,
   "id": "e61dbd35",
   "metadata": {},
   "outputs": [
    {
     "data": {
      "text/plain": [
       "♜♞♝♛♚♝♞♜\n",
       "♟♟♟♟♟♟♟♟\n",
       "........\n",
       "........\n",
       "........\n",
       "........\n",
       "♙♙♙♙♙♙♙♙\n",
       "♖♘♗♕♔♗♘♖"
      ]
     },
     "execution_count": 6,
     "metadata": {},
     "output_type": "execute_result"
    }
   ],
   "source": [
    "Board()"
   ]
  },
  {
   "cell_type": "code",
   "execution_count": 7,
   "id": "92dfad5a",
   "metadata": {},
   "outputs": [],
   "source": [
    "def game(board):\n",
    "    best_move=0\n",
    "    best_score=-1000\n",
    "    legal_moves=board.get_legal_moves()\n",
    "    print(\"-\"*40)\n",
    "    if(legal_moves):\n",
    "        for move in board.get_legal_moves():\n",
    "            color=board.whose_move\n",
    "            copy=Board.clone(board)\n",
    "            copy.move(move[0],move[1])\n",
    "            enemy_color=copy.whose_move\n",
    "            score=copy.scores(color)-copy.scores(enemy_color)\n",
    "            if(score>best_score):\n",
    "                best_score=score\n",
    "                best_move=move\n",
    "            print(move, ' scoresW=', copy.scores(Color.WHITE), ' scoresB=', copy.scores(Color.BLACK))\n",
    "    else:\n",
    "        #либо пат, либо мат\n",
    "        copy=Board.clone(board)\n",
    "        king=[0,0]\n",
    "        for piece in copy.chesspieces[copy.whose_move]:\n",
    "            if(piece.NAME=='King'):\n",
    "                king=[piece.x,piece.y]\n",
    "                break\n",
    "        copy.whose_move=Color.WHITE+Color.BLACK-copy.whose_move\n",
    "        isItCheckMate=False\n",
    "        for piece in copy.chesspieces[copy.whose_move]:\n",
    "            if(piece.IsItControl (copy.board, king[0],king[1])):\n",
    "                isItCheckMate=True\n",
    "                break\n",
    "        if(isItCheckMate):\n",
    "            if(copy.whose_move==Color.WHITE):\n",
    "                text=\"белые.\"\n",
    "            else:\n",
    "                text=\"черные.\"\n",
    "            print(\"Шах и мат. Выиграли \",text)\n",
    "        else:\n",
    "            print(\"Пат\")"
   ]
  },
  {
   "cell_type": "code",
   "execution_count": 8,
   "id": "d86c6e1a",
   "metadata": {},
   "outputs": [
    {
     "name": "stdout",
     "output_type": "stream",
     "text": [
      "----------------------------------------\n",
      "[[1, 0], [2, 2]]  scoresW= 1410.0  scoresB= 1395.0\n",
      "[[1, 0], [0, 2]]  scoresW= 1400.0  scoresB= 1395.0\n",
      "[[6, 0], [7, 2]]  scoresW= 1400.0  scoresB= 1395.0\n",
      "[[6, 0], [5, 2]]  scoresW= 1410.0  scoresB= 1395.0\n",
      "[[0, 1], [0, 2]]  scoresW= 1395.0  scoresB= 1395.0\n",
      "[[0, 1], [0, 3]]  scoresW= 1403.75  scoresB= 1395.0\n",
      "[[1, 1], [1, 2]]  scoresW= 1417.5  scoresB= 1395.0\n",
      "[[1, 1], [1, 3]]  scoresW= 1421.25  scoresB= 1395.0\n",
      "[[2, 1], [2, 2]]  scoresW= 1417.5  scoresB= 1395.0\n",
      "[[2, 1], [2, 3]]  scoresW= 1425.0  scoresB= 1395.0\n",
      "[[3, 1], [3, 2]]  scoresW= 1442.5  scoresB= 1395.0\n",
      "[[3, 1], [3, 3]]  scoresW= 1450.0  scoresB= 1395.0\n",
      "[[4, 1], [4, 2]]  scoresW= 1457.5  scoresB= 1395.0\n",
      "[[4, 1], [4, 3]]  scoresW= 1460.0  scoresB= 1395.0\n",
      "[[5, 1], [5, 2]]  scoresW= 1402.5  scoresB= 1395.0\n",
      "[[5, 1], [5, 3]]  scoresW= 1410.0  scoresB= 1395.0\n",
      "[[6, 1], [6, 2]]  scoresW= 1417.5  scoresB= 1395.0\n",
      "[[6, 1], [6, 3]]  scoresW= 1421.25  scoresB= 1395.0\n",
      "[[7, 1], [7, 2]]  scoresW= 1400.0  scoresB= 1395.0\n",
      "[[7, 1], [7, 3]]  scoresW= 1413.75  scoresB= 1395.0\n"
     ]
    }
   ],
   "source": [
    "game(Board())"
   ]
  },
  {
   "cell_type": "code",
   "execution_count": 9,
   "id": "c542e91f",
   "metadata": {},
   "outputs": [],
   "source": [
    "b1=Board()"
   ]
  },
  {
   "cell_type": "code",
   "execution_count": 10,
   "id": "0ef410e4",
   "metadata": {
    "scrolled": true
   },
   "outputs": [
    {
     "data": {
      "text/plain": [
       "♜♞♝♛♚♝♞♜\n",
       "♟♟♟♟♟♟♟♟\n",
       "........\n",
       "........\n",
       "........\n",
       "........\n",
       "♙♙♙♙♙♙♙♙\n",
       "♖♘♗♕♔♗♘♖"
      ]
     },
     "execution_count": 10,
     "metadata": {},
     "output_type": "execute_result"
    }
   ],
   "source": [
    "b1"
   ]
  },
  {
   "cell_type": "code",
   "execution_count": 11,
   "id": "4580c1d6",
   "metadata": {},
   "outputs": [],
   "source": [
    "b1.move([4,1],[4,3])\n",
    "b1.move([4,6],[4,4])\n",
    "b1.move([5,0],[2,3])\n",
    "b1.move([5,7],[2,4])\n",
    "b1.move([3,0],[7,4])\n",
    "b1.move([6,7],[5,5])"
   ]
  },
  {
   "cell_type": "code",
   "execution_count": 12,
   "id": "cbedf4f2",
   "metadata": {},
   "outputs": [
    {
     "data": {
      "text/plain": [
       "♜♞♝♛♚..♜\n",
       "♟♟♟♟.♟♟♟\n",
       ".....♞..\n",
       "..♝.♟..♕\n",
       "..♗.♙...\n",
       "........\n",
       "♙♙♙♙.♙♙♙\n",
       "♖♘♗.♔.♘♖"
      ]
     },
     "execution_count": 12,
     "metadata": {},
     "output_type": "execute_result"
    }
   ],
   "source": [
    "b1"
   ]
  },
  {
   "cell_type": "code",
   "execution_count": 13,
   "id": "a35754f1",
   "metadata": {},
   "outputs": [],
   "source": [
    "b2=Board.clone(b1)"
   ]
  },
  {
   "cell_type": "code",
   "execution_count": 14,
   "id": "89974561",
   "metadata": {},
   "outputs": [],
   "source": [
    "b2.move([7,4],[5,6])"
   ]
  },
  {
   "cell_type": "code",
   "execution_count": 15,
   "id": "7dd833a9",
   "metadata": {},
   "outputs": [
    {
     "data": {
      "text/plain": [
       "♜♞♝♛♚..♜\n",
       "♟♟♟♟.♕♟♟\n",
       ".....♞..\n",
       "..♝.♟...\n",
       "..♗.♙...\n",
       "........\n",
       "♙♙♙♙.♙♙♙\n",
       "♖♘♗.♔.♘♖"
      ]
     },
     "execution_count": 15,
     "metadata": {},
     "output_type": "execute_result"
    }
   ],
   "source": [
    "b2"
   ]
  },
  {
   "cell_type": "code",
   "execution_count": 16,
   "id": "600be965",
   "metadata": {},
   "outputs": [
    {
     "data": {
      "text/plain": [
       "True"
      ]
     },
     "execution_count": 16,
     "metadata": {},
     "output_type": "execute_result"
    }
   ],
   "source": [
    "b2.board[6][5].IsItControl(b2.board,4,7)"
   ]
  },
  {
   "cell_type": "code",
   "execution_count": 17,
   "id": "8dad9a86",
   "metadata": {},
   "outputs": [
    {
     "name": "stdout",
     "output_type": "stream",
     "text": [
      "check\n",
      "check\n",
      "check\n",
      "check\n",
      "check\n",
      "check\n",
      "check\n",
      "check\n",
      "check\n",
      "check\n",
      "check\n",
      "check\n",
      "check\n",
      "check\n",
      "check\n",
      "check\n",
      "check\n",
      "check\n",
      "check\n",
      "check\n",
      "check\n",
      "check\n",
      "check\n",
      "check\n",
      "check\n",
      "check\n",
      "check\n",
      "check\n",
      "check\n",
      "check\n",
      "check\n",
      "check\n",
      "check\n",
      "check\n",
      "----------------------------------------\n",
      "Шах и мат. Выиграли  белые.\n"
     ]
    }
   ],
   "source": [
    "game(b2)"
   ]
  },
  {
   "cell_type": "code",
   "execution_count": 18,
   "id": "de5940d9",
   "metadata": {},
   "outputs": [
    {
     "name": "stdout",
     "output_type": "stream",
     "text": [
      "[[4, 0], [4, 1]]  scoresW= 1500.0  scoresB= 1485.0\n",
      "[[1, 0], [2, 2]]  scoresW= 1545.0  scoresB= 1485.0\n",
      "[[1, 0], [0, 2]]  scoresW= 1525.0  scoresB= 1485.0\n",
      "[[6, 0], [7, 2]]  scoresW= 1520.0  scoresB= 1485.0\n",
      "[[6, 0], [5, 2]]  scoresW= 1520.0  scoresB= 1485.0\n",
      "[[6, 0], [4, 1]]  scoresW= 1515.0  scoresB= 1485.0\n",
      "[[0, 1], [0, 2]]  scoresW= 1530.0  scoresB= 1485.0\n",
      "[[0, 1], [0, 3]]  scoresW= 1538.75  scoresB= 1485.0\n",
      "[[1, 1], [1, 2]]  scoresW= 1542.5  scoresB= 1485.0\n",
      "[[1, 1], [1, 3]]  scoresW= 1551.25  scoresB= 1480.0\n",
      "[[2, 1], [2, 2]]  scoresW= 1532.5  scoresB= 1485.0\n",
      "[[3, 1], [3, 2]]  scoresW= 1557.5  scoresB= 1485.0\n",
      "[[3, 1], [3, 3]]  scoresW= 1580.0  scoresB= 1475.0\n",
      "[[5, 1], [5, 2]]  scoresW= 1522.5  scoresB= 1490.0\n",
      "[[5, 1], [5, 3]]  scoresW= 1550.0  scoresB= 1490.0\n",
      "[[6, 1], [6, 2]]  scoresW= 1537.5  scoresB= 1485.0\n",
      "[[6, 1], [6, 3]]  scoresW= 1521.25  scoresB= 1485.0\n",
      "[[7, 1], [7, 2]]  scoresW= 1525.0  scoresB= 1485.0\n",
      "[[7, 1], [7, 3]]  scoresW= 1533.75  scoresB= 1485.0\n",
      "[[2, 3], [3, 4]]  scoresW= 1510.0  scoresB= 1485.0\n",
      "[[2, 3], [4, 5]]  scoresW= 1520.0  scoresB= 1485.0\n",
      "[[2, 3], [5, 6]]  scoresW= 1510.0  scoresB= 1472.5\n",
      "[[2, 3], [1, 4]]  scoresW= 1520.0  scoresB= 1485.0\n",
      "[[2, 3], [0, 5]]  scoresW= 1510.0  scoresB= 1485.0\n",
      "[[2, 3], [3, 2]]  scoresW= 1505.0  scoresB= 1485.0\n",
      "[[2, 3], [4, 1]]  scoresW= 1505.0  scoresB= 1485.0\n",
      "[[2, 3], [5, 0]]  scoresW= 1505.0  scoresB= 1485.0\n",
      "[[2, 3], [1, 2]]  scoresW= 1505.0  scoresB= 1485.0\n",
      "[[7, 4], [6, 4]]  scoresW= 1520.0  scoresB= 1485.0\n",
      "[[7, 4], [5, 4]]  scoresW= 1520.0  scoresB= 1485.0\n",
      "[[7, 4], [4, 4]]  scoresW= 1535.0  scoresB= 1455.0\n",
      "[[7, 4], [7, 5]]  scoresW= 1510.0  scoresB= 1485.0\n",
      "[[7, 4], [7, 6]]  scoresW= 1505.0  scoresB= 1488.75\n",
      "[[7, 4], [7, 3]]  scoresW= 1505.0  scoresB= 1485.0\n",
      "[[7, 4], [7, 2]]  scoresW= 1505.0  scoresB= 1485.0\n",
      "[[7, 4], [6, 5]]  scoresW= 1510.0  scoresB= 1485.0\n",
      "[[7, 4], [5, 6]]  scoresW= 1510.0  scoresB= 1472.5\n",
      "[[7, 4], [6, 3]]  scoresW= 1530.0  scoresB= 1485.0\n",
      "[[7, 4], [5, 2]]  scoresW= 1510.0  scoresB= 1485.0\n",
      "[[7, 4], [4, 1]]  scoresW= 1480.0  scoresB= 1485.0\n",
      "[[7, 4], [3, 0]]  scoresW= 1480.0  scoresB= 1485.0\n"
     ]
    }
   ],
   "source": [
    "best_move=0\n",
    "best_score=-1000\n",
    "for move in b1.get_legal_moves():\n",
    "    copy=Board.clone(b1)\n",
    "    copy.move(move[0],move[1])\n",
    "    score=copy.scores(Color.WHITE)-copy.scores(Color.BLACK)\n",
    "    if(score>best_score):\n",
    "        best_score=score\n",
    "        best_move=move\n",
    "    print(move, ' scoresW=', copy.scores(Color.WHITE), ' scoresB=', copy.scores(Color.BLACK))"
   ]
  },
  {
   "cell_type": "code",
   "execution_count": 19,
   "id": "f49d25f5",
   "metadata": {},
   "outputs": [
    {
     "data": {
      "text/plain": [
       "105.0"
      ]
     },
     "execution_count": 19,
     "metadata": {},
     "output_type": "execute_result"
    }
   ],
   "source": [
    "best_score"
   ]
  },
  {
   "cell_type": "code",
   "execution_count": 201,
   "id": "42dd7043",
   "metadata": {},
   "outputs": [
    {
     "data": {
      "text/plain": [
       "[[4, 1], [4, 3]]"
      ]
     },
     "execution_count": 201,
     "metadata": {},
     "output_type": "execute_result"
    }
   ],
   "source": [
    "best_move"
   ]
  },
  {
   "cell_type": "code",
   "execution_count": 202,
   "id": "7ad6b106",
   "metadata": {},
   "outputs": [],
   "source": [
    "b1.move(best_move[0],best_move[1])"
   ]
  },
  {
   "cell_type": "code",
   "execution_count": 203,
   "id": "d4d017b6",
   "metadata": {},
   "outputs": [
    {
     "data": {
      "text/plain": [
       "♜♞♝♛♚♝♞♜\n",
       "♟♟♟♟♟♟♟♟\n",
       "........\n",
       "........\n",
       "....♙...\n",
       "........\n",
       "♙♙♙♙.♙♙♙\n",
       "♖♘♗♕♔♗♘♖"
      ]
     },
     "execution_count": 203,
     "metadata": {},
     "output_type": "execute_result"
    }
   ],
   "source": [
    "b1"
   ]
  },
  {
   "cell_type": "code",
   "execution_count": 204,
   "id": "256e4de4",
   "metadata": {},
   "outputs": [
    {
     "name": "stdout",
     "output_type": "stream",
     "text": [
      "[[0, 6], [0, 5]]  scoresW= 1460.0  scoresB= 1395.0\n",
      "[[0, 6], [0, 4]]  scoresW= 1460.0  scoresB= 1403.75\n",
      "[[1, 6], [1, 5]]  scoresW= 1460.0  scoresB= 1417.5\n",
      "[[1, 6], [1, 4]]  scoresW= 1455.0  scoresB= 1421.25\n",
      "[[2, 6], [2, 5]]  scoresW= 1460.0  scoresB= 1417.5\n",
      "[[2, 6], [2, 4]]  scoresW= 1460.0  scoresB= 1425.0\n",
      "[[3, 6], [3, 5]]  scoresW= 1460.0  scoresB= 1442.5\n",
      "[[3, 6], [3, 4]]  scoresW= 1460.0  scoresB= 1450.0\n",
      "[[4, 6], [4, 5]]  scoresW= 1460.0  scoresB= 1457.5\n",
      "[[4, 6], [4, 4]]  scoresW= 1460.0  scoresB= 1460.0\n",
      "[[5, 6], [5, 5]]  scoresW= 1460.0  scoresB= 1402.5\n",
      "[[5, 6], [5, 4]]  scoresW= 1460.0  scoresB= 1410.0\n",
      "[[6, 6], [6, 5]]  scoresW= 1460.0  scoresB= 1417.5\n",
      "[[6, 6], [6, 4]]  scoresW= 1460.0  scoresB= 1421.25\n",
      "[[7, 6], [7, 5]]  scoresW= 1460.0  scoresB= 1400.0\n",
      "[[7, 6], [7, 4]]  scoresW= 1460.0  scoresB= 1413.75\n",
      "[[1, 7], [2, 5]]  scoresW= 1460.0  scoresB= 1415.0\n",
      "[[1, 7], [0, 5]]  scoresW= 1460.0  scoresB= 1405.0\n",
      "[[6, 7], [7, 5]]  scoresW= 1460.0  scoresB= 1405.0\n",
      "[[6, 7], [5, 5]]  scoresW= 1460.0  scoresB= 1415.0\n"
     ]
    }
   ],
   "source": [
    "best_move=0\n",
    "best_score=-1000\n",
    "for move in b1.get_legal_moves():\n",
    "    copy=Board.clone(b1)\n",
    "    copy.move(move[0],move[1])\n",
    "    score=copy.scores(Color.BLACK)-copy.scores(Color.WHITE)\n",
    "    if(score>best_score):\n",
    "        best_score=score\n",
    "        best_move=move\n",
    "    print(move, ' scoresW=', copy.scores(Color.WHITE), ' scoresB=', copy.scores(Color.BLACK))"
   ]
  },
  {
   "cell_type": "code",
   "execution_count": 205,
   "id": "edf5e1ee",
   "metadata": {},
   "outputs": [
    {
     "name": "stdout",
     "output_type": "stream",
     "text": [
      "best_score= 0.0  best_move [[4, 6], [4, 4]]\n"
     ]
    },
    {
     "data": {
      "text/plain": [
       "♜♞♝♛♚♝♞♜\n",
       "♟♟♟♟.♟♟♟\n",
       "........\n",
       "....♟...\n",
       "....♙...\n",
       "........\n",
       "♙♙♙♙.♙♙♙\n",
       "♖♘♗♕♔♗♘♖"
      ]
     },
     "execution_count": 205,
     "metadata": {},
     "output_type": "execute_result"
    }
   ],
   "source": [
    "print(\"best_score=\",best_score,\" best_move\", best_move)\n",
    "b1.move(best_move[0],best_move[1])\n",
    "b1"
   ]
  },
  {
   "cell_type": "code",
   "execution_count": 206,
   "id": "a4976613",
   "metadata": {},
   "outputs": [
    {
     "name": "stdout",
     "output_type": "stream",
     "text": [
      "[[0, 1], [0, 2]]  scoresW= 1460.0  scoresB= 1460.0\n",
      "[[0, 1], [0, 3]]  scoresW= 1468.75  scoresB= 1460.0\n",
      "[[1, 1], [1, 2]]  scoresW= 1482.5  scoresB= 1460.0\n",
      "[[1, 1], [1, 3]]  scoresW= 1486.25  scoresB= 1455.0\n",
      "[[2, 1], [2, 2]]  scoresW= 1482.5  scoresB= 1460.0\n",
      "[[2, 1], [2, 3]]  scoresW= 1475.0  scoresB= 1460.0\n",
      "[[3, 1], [3, 2]]  scoresW= 1492.5  scoresB= 1460.0\n",
      "[[3, 1], [3, 3]]  scoresW= 1525.0  scoresB= 1460.0\n",
      "[[5, 1], [5, 2]]  scoresW= 1457.5  scoresB= 1460.0\n",
      "[[5, 1], [5, 3]]  scoresW= 1485.0  scoresB= 1460.0\n",
      "[[6, 1], [6, 2]]  scoresW= 1482.5  scoresB= 1460.0\n",
      "[[6, 1], [6, 3]]  scoresW= 1476.25  scoresB= 1460.0\n",
      "[[7, 1], [7, 2]]  scoresW= 1465.0  scoresB= 1460.0\n",
      "[[7, 1], [7, 3]]  scoresW= 1478.75  scoresB= 1460.0\n",
      "[[4, 0], [4, 1]]  scoresW= 1410.0  scoresB= 1460.0\n",
      "[[3, 0], [4, 1]]  scoresW= 1455.0  scoresB= 1460.0\n",
      "[[3, 0], [5, 2]]  scoresW= 1495.0  scoresB= 1460.0\n",
      "[[3, 0], [6, 3]]  scoresW= 1510.0  scoresB= 1460.0\n",
      "[[3, 0], [7, 4]]  scoresW= 1505.0  scoresB= 1460.0\n",
      "[[1, 0], [2, 2]]  scoresW= 1475.0  scoresB= 1460.0\n",
      "[[1, 0], [0, 2]]  scoresW= 1465.0  scoresB= 1460.0\n",
      "[[6, 0], [7, 2]]  scoresW= 1460.0  scoresB= 1460.0\n",
      "[[6, 0], [5, 2]]  scoresW= 1455.0  scoresB= 1460.0\n",
      "[[6, 0], [4, 1]]  scoresW= 1425.0  scoresB= 1460.0\n",
      "[[5, 0], [4, 1]]  scoresW= 1450.0  scoresB= 1460.0\n",
      "[[5, 0], [3, 2]]  scoresW= 1460.0  scoresB= 1460.0\n",
      "[[5, 0], [2, 3]]  scoresW= 1480.0  scoresB= 1460.0\n",
      "[[5, 0], [1, 4]]  scoresW= 1475.0  scoresB= 1460.0\n",
      "[[5, 0], [0, 5]]  scoresW= 1465.0  scoresB= 1460.0\n"
     ]
    }
   ],
   "source": [
    "best_move=0\n",
    "best_score=-1000\n",
    "for move in b1.get_legal_moves():\n",
    "    copy=Board.clone(b1)\n",
    "    copy.move(move[0],move[1])\n",
    "    score=copy.scores(Color.WHITE)-copy.scores(Color.BLACK)\n",
    "    if(score>best_score):\n",
    "        best_score=score\n",
    "        best_move=move\n",
    "    print(move, ' scoresW=', copy.scores(Color.WHITE), ' scoresB=', copy.scores(Color.BLACK))"
   ]
  },
  {
   "cell_type": "code",
   "execution_count": 207,
   "id": "4ad690e8",
   "metadata": {},
   "outputs": [
    {
     "name": "stdout",
     "output_type": "stream",
     "text": [
      "best_score= 65.0  best_move [[3, 1], [3, 3]]\n"
     ]
    },
    {
     "data": {
      "text/plain": [
       "♜♞♝♛♚♝♞♜\n",
       "♟♟♟♟.♟♟♟\n",
       "........\n",
       "....♟...\n",
       "...♙♙...\n",
       "........\n",
       "♙♙♙..♙♙♙\n",
       "♖♘♗♕♔♗♘♖"
      ]
     },
     "execution_count": 207,
     "metadata": {},
     "output_type": "execute_result"
    }
   ],
   "source": [
    "print(\"best_score=\",best_score,\" best_move\", best_move)\n",
    "b1.move(best_move[0],best_move[1])\n",
    "b1"
   ]
  },
  {
   "cell_type": "code",
   "execution_count": 208,
   "id": "9bc54daf",
   "metadata": {},
   "outputs": [
    {
     "name": "stdout",
     "output_type": "stream",
     "text": [
      "[[0, 6], [0, 5]]  scoresW= 1525.0  scoresB= 1460.0\n",
      "[[0, 6], [0, 4]]  scoresW= 1525.0  scoresB= 1468.75\n",
      "[[1, 6], [1, 5]]  scoresW= 1525.0  scoresB= 1482.5\n",
      "[[1, 6], [1, 4]]  scoresW= 1520.0  scoresB= 1486.25\n",
      "[[2, 6], [2, 5]]  scoresW= 1525.0  scoresB= 1482.5\n",
      "[[2, 6], [2, 4]]  scoresW= 1525.0  scoresB= 1475.0\n",
      "[[3, 6], [3, 5]]  scoresW= 1525.0  scoresB= 1492.5\n",
      "[[3, 6], [3, 4]]  scoresW= 1525.0  scoresB= 1525.0\n",
      "[[5, 6], [5, 5]]  scoresW= 1525.0  scoresB= 1457.5\n",
      "[[5, 6], [5, 4]]  scoresW= 1525.0  scoresB= 1485.0\n",
      "[[6, 6], [6, 5]]  scoresW= 1525.0  scoresB= 1482.5\n",
      "[[6, 6], [6, 4]]  scoresW= 1520.0  scoresB= 1476.25\n",
      "[[7, 6], [7, 5]]  scoresW= 1525.0  scoresB= 1465.0\n",
      "[[7, 6], [7, 4]]  scoresW= 1525.0  scoresB= 1478.75\n",
      "[[4, 7], [4, 6]]  scoresW= 1525.0  scoresB= 1415.0\n",
      "[[3, 7], [4, 6]]  scoresW= 1525.0  scoresB= 1455.0\n",
      "[[3, 7], [5, 5]]  scoresW= 1525.0  scoresB= 1510.0\n",
      "[[3, 7], [6, 4]]  scoresW= 1520.0  scoresB= 1515.0\n",
      "[[3, 7], [7, 3]]  scoresW= 1525.0  scoresB= 1505.0\n",
      "[[1, 7], [2, 5]]  scoresW= 1525.0  scoresB= 1480.0\n",
      "[[1, 7], [0, 5]]  scoresW= 1525.0  scoresB= 1470.0\n",
      "[[6, 7], [7, 5]]  scoresW= 1525.0  scoresB= 1465.0\n",
      "[[6, 7], [5, 5]]  scoresW= 1525.0  scoresB= 1460.0\n",
      "[[6, 7], [4, 6]]  scoresW= 1525.0  scoresB= 1430.0\n",
      "[[5, 7], [4, 6]]  scoresW= 1525.0  scoresB= 1450.0\n",
      "[[5, 7], [3, 5]]  scoresW= 1525.0  scoresB= 1460.0\n",
      "[[5, 7], [2, 4]]  scoresW= 1525.0  scoresB= 1470.0\n",
      "[[5, 7], [1, 3]]  scoresW= 1525.0  scoresB= 1480.0\n",
      "[[5, 7], [0, 2]]  scoresW= 1525.0  scoresB= 1465.0\n",
      "[[4, 4], [3, 3]]  scoresW= 1492.5  scoresB= 1444.375\n"
     ]
    }
   ],
   "source": [
    "best_move=0\n",
    "best_score=-1000\n",
    "for move in b1.get_legal_moves():\n",
    "    copy=Board.clone(b1)\n",
    "    copy.move(move[0],move[1])\n",
    "    score=copy.scores(Color.BLACK)-copy.scores(Color.WHITE)\n",
    "    if(score>best_score):\n",
    "        best_score=score\n",
    "        best_move=move\n",
    "    print(move, ' scoresW=', copy.scores(Color.WHITE), ' scoresB=', copy.scores(Color.BLACK))"
   ]
  },
  {
   "cell_type": "code",
   "execution_count": 209,
   "id": "72905261",
   "metadata": {},
   "outputs": [
    {
     "name": "stdout",
     "output_type": "stream",
     "text": [
      "best_score= 0.0  best_move [[3, 6], [3, 4]]\n"
     ]
    },
    {
     "data": {
      "text/plain": [
       "♜♞♝♛♚♝♞♜\n",
       "♟♟♟..♟♟♟\n",
       "........\n",
       "...♟♟...\n",
       "...♙♙...\n",
       "........\n",
       "♙♙♙..♙♙♙\n",
       "♖♘♗♕♔♗♘♖"
      ]
     },
     "execution_count": 209,
     "metadata": {},
     "output_type": "execute_result"
    }
   ],
   "source": [
    "print(\"best_score=\",best_score,\" best_move\", best_move)\n",
    "b1.move(best_move[0],best_move[1])\n",
    "b1"
   ]
  },
  {
   "cell_type": "code",
   "execution_count": 210,
   "id": "749e3b61",
   "metadata": {},
   "outputs": [
    {
     "name": "stdout",
     "output_type": "stream",
     "text": [
      "[[0, 1], [0, 2]]  scoresW= 1525.0  scoresB= 1525.0\n",
      "[[0, 1], [0, 3]]  scoresW= 1533.75  scoresB= 1525.0\n",
      "[[1, 1], [1, 2]]  scoresW= 1547.5  scoresB= 1525.0\n",
      "[[1, 1], [1, 3]]  scoresW= 1551.25  scoresB= 1520.0\n",
      "[[2, 1], [2, 2]]  scoresW= 1552.5  scoresB= 1525.0\n",
      "[[2, 1], [2, 3]]  scoresW= 1550.0  scoresB= 1525.0\n",
      "[[5, 1], [5, 2]]  scoresW= 1522.5  scoresB= 1525.0\n",
      "[[5, 1], [5, 3]]  scoresW= 1535.0  scoresB= 1525.0\n",
      "[[6, 1], [6, 2]]  scoresW= 1547.5  scoresB= 1525.0\n",
      "[[6, 1], [6, 3]]  scoresW= 1541.25  scoresB= 1520.0\n",
      "[[7, 1], [7, 2]]  scoresW= 1530.0  scoresB= 1525.0\n",
      "[[7, 1], [7, 3]]  scoresW= 1543.75  scoresB= 1525.0\n",
      "[[4, 0], [4, 1]]  scoresW= 1475.0  scoresB= 1525.0\n",
      "[[4, 0], [3, 1]]  scoresW= 1485.0  scoresB= 1525.0\n",
      "[[3, 0], [3, 1]]  scoresW= 1515.0  scoresB= 1525.0\n",
      "[[3, 0], [3, 2]]  scoresW= 1525.0  scoresB= 1525.0\n",
      "[[3, 0], [4, 1]]  scoresW= 1515.0  scoresB= 1525.0\n",
      "[[3, 0], [5, 2]]  scoresW= 1550.0  scoresB= 1525.0\n",
      "[[3, 0], [6, 3]]  scoresW= 1570.0  scoresB= 1520.0\n",
      "[[3, 0], [7, 4]]  scoresW= 1560.0  scoresB= 1525.0\n",
      "[[1, 0], [2, 2]]  scoresW= 1535.0  scoresB= 1525.0\n",
      "[[1, 0], [3, 1]]  scoresW= 1495.0  scoresB= 1525.0\n",
      "[[1, 0], [0, 2]]  scoresW= 1525.0  scoresB= 1525.0\n",
      "[[6, 0], [7, 2]]  scoresW= 1525.0  scoresB= 1525.0\n",
      "[[6, 0], [5, 2]]  scoresW= 1520.0  scoresB= 1525.0\n",
      "[[6, 0], [4, 1]]  scoresW= 1485.0  scoresB= 1525.0\n",
      "[[2, 0], [3, 1]]  scoresW= 1525.0  scoresB= 1525.0\n",
      "[[2, 0], [4, 2]]  scoresW= 1525.0  scoresB= 1525.0\n",
      "[[2, 0], [5, 3]]  scoresW= 1535.0  scoresB= 1525.0\n",
      "[[2, 0], [6, 4]]  scoresW= 1545.0  scoresB= 1520.0\n",
      "[[2, 0], [7, 5]]  scoresW= 1530.0  scoresB= 1525.0\n",
      "[[5, 0], [4, 1]]  scoresW= 1515.0  scoresB= 1525.0\n",
      "[[5, 0], [3, 2]]  scoresW= 1520.0  scoresB= 1525.0\n",
      "[[5, 0], [2, 3]]  scoresW= 1535.0  scoresB= 1525.0\n",
      "[[5, 0], [1, 4]]  scoresW= 1545.0  scoresB= 1525.0\n",
      "[[5, 0], [0, 5]]  scoresW= 1530.0  scoresB= 1525.0\n",
      "[[4, 3], [3, 4]]  scoresW= 1492.5  scoresB= 1492.5\n",
      "[[3, 3], [4, 4]]  scoresW= 1497.5  scoresB= 1487.5\n"
     ]
    }
   ],
   "source": [
    "best_move=0\n",
    "best_score=-1000\n",
    "for move in b1.get_legal_moves():\n",
    "    copy=Board.clone(b1)\n",
    "    copy.move(move[0],move[1])\n",
    "    score=copy.scores(Color.WHITE)-copy.scores(Color.BLACK)\n",
    "    if(score>best_score):\n",
    "        best_score=score\n",
    "        best_move=move\n",
    "    print(move, ' scoresW=', copy.scores(Color.WHITE), ' scoresB=', copy.scores(Color.BLACK))"
   ]
  },
  {
   "cell_type": "code",
   "execution_count": 211,
   "id": "b379b15d",
   "metadata": {},
   "outputs": [
    {
     "name": "stdout",
     "output_type": "stream",
     "text": [
      "best_score= 50.0  best_move [[3, 0], [6, 3]]\n"
     ]
    },
    {
     "data": {
      "text/plain": [
       "♜♞♝♛♚♝♞♜\n",
       "♟♟♟..♟♟♟\n",
       "........\n",
       "...♟♟...\n",
       "...♙♙.♕.\n",
       "........\n",
       "♙♙♙..♙♙♙\n",
       "♖♘♗.♔♗♘♖"
      ]
     },
     "execution_count": 211,
     "metadata": {},
     "output_type": "execute_result"
    }
   ],
   "source": [
    "print(\"best_score=\",best_score,\" best_move\", best_move)\n",
    "b1.move(best_move[0],best_move[1])\n",
    "b1"
   ]
  },
  {
   "cell_type": "code",
   "execution_count": 212,
   "id": "92273302",
   "metadata": {},
   "outputs": [
    {
     "name": "stdout",
     "output_type": "stream",
     "text": [
      "[[0, 6], [0, 5]]  scoresW= 1570.0  scoresB= 1520.0\n",
      "[[0, 6], [0, 4]]  scoresW= 1570.0  scoresB= 1528.75\n",
      "[[1, 6], [1, 5]]  scoresW= 1570.0  scoresB= 1542.5\n",
      "[[1, 6], [1, 4]]  scoresW= 1565.0  scoresB= 1546.25\n",
      "[[2, 6], [2, 5]]  scoresW= 1570.0  scoresB= 1547.5\n",
      "[[2, 6], [2, 4]]  scoresW= 1570.0  scoresB= 1545.0\n",
      "[[5, 6], [5, 5]]  scoresW= 1570.0  scoresB= 1517.5\n",
      "[[5, 6], [5, 4]]  scoresW= 1555.0  scoresB= 1535.0\n",
      "[[6, 6], [6, 5]]  scoresW= 1565.0  scoresB= 1542.5\n",
      "[[6, 6], [6, 4]]  scoresW= 1555.0  scoresB= 1536.25\n",
      "[[7, 6], [7, 5]]  scoresW= 1570.0  scoresB= 1525.0\n",
      "[[7, 6], [7, 4]]  scoresW= 1570.0  scoresB= 1538.75\n",
      "[[4, 7], [4, 6]]  scoresW= 1570.0  scoresB= 1475.0\n",
      "[[4, 7], [3, 6]]  scoresW= 1565.0  scoresB= 1490.0\n",
      "[[3, 7], [3, 6]]  scoresW= 1565.0  scoresB= 1510.0\n",
      "[[3, 7], [3, 5]]  scoresW= 1570.0  scoresB= 1535.0\n",
      "[[3, 7], [4, 6]]  scoresW= 1570.0  scoresB= 1510.0\n",
      "[[3, 7], [5, 5]]  scoresW= 1570.0  scoresB= 1560.0\n",
      "[[3, 7], [6, 4]]  scoresW= 1555.0  scoresB= 1555.0\n",
      "[[3, 7], [7, 3]]  scoresW= 1570.0  scoresB= 1545.0\n",
      "[[1, 7], [2, 5]]  scoresW= 1570.0  scoresB= 1535.0\n",
      "[[1, 7], [3, 6]]  scoresW= 1565.0  scoresB= 1500.0\n",
      "[[1, 7], [0, 5]]  scoresW= 1570.0  scoresB= 1525.0\n",
      "[[6, 7], [7, 5]]  scoresW= 1570.0  scoresB= 1525.0\n",
      "[[6, 7], [5, 5]]  scoresW= 1570.0  scoresB= 1520.0\n",
      "[[6, 7], [4, 6]]  scoresW= 1570.0  scoresB= 1485.0\n",
      "[[2, 7], [3, 6]]  scoresW= 1565.0  scoresB= 1525.0\n",
      "[[2, 7], [4, 5]]  scoresW= 1560.0  scoresB= 1525.0\n",
      "[[2, 7], [5, 4]]  scoresW= 1555.0  scoresB= 1535.0\n",
      "[[2, 7], [6, 3]]  scoresW= 1395.0  scoresB= 1550.0\n",
      "[[5, 7], [4, 6]]  scoresW= 1570.0  scoresB= 1510.0\n",
      "[[5, 7], [3, 5]]  scoresW= 1570.0  scoresB= 1515.0\n",
      "[[5, 7], [2, 4]]  scoresW= 1570.0  scoresB= 1530.0\n",
      "[[5, 7], [1, 3]]  scoresW= 1570.0  scoresB= 1540.0\n",
      "[[5, 7], [0, 2]]  scoresW= 1570.0  scoresB= 1525.0\n",
      "[[4, 4], [3, 3]]  scoresW= 1532.5  scoresB= 1487.5\n",
      "[[3, 4], [4, 3]]  scoresW= 1537.5  scoresB= 1492.5\n"
     ]
    }
   ],
   "source": [
    "best_move=0\n",
    "best_score=-1000\n",
    "for move in b1.get_legal_moves():\n",
    "    copy=Board.clone(b1)\n",
    "    copy.move(move[0],move[1])\n",
    "    score=copy.scores(Color.BLACK)-copy.scores(Color.WHITE)\n",
    "    if(score>best_score):\n",
    "        best_score=score\n",
    "        best_move=move\n",
    "    print(move, ' scoresW=', copy.scores(Color.WHITE), ' scoresB=', copy.scores(Color.BLACK))"
   ]
  },
  {
   "cell_type": "code",
   "execution_count": 213,
   "id": "590e9b4b",
   "metadata": {},
   "outputs": [
    {
     "name": "stdout",
     "output_type": "stream",
     "text": [
      "best_score= 155.0  best_move [[2, 7], [6, 3]]\n"
     ]
    },
    {
     "data": {
      "text/plain": [
       "♜♞.♛♚♝♞♜\n",
       "♟♟♟..♟♟♟\n",
       "........\n",
       "...♟♟...\n",
       "...♙♙.♝.\n",
       "........\n",
       "♙♙♙..♙♙♙\n",
       "♖♘♗.♔♗♘♖"
      ]
     },
     "execution_count": 213,
     "metadata": {},
     "output_type": "execute_result"
    }
   ],
   "source": [
    "print(\"best_score=\",best_score,\" best_move\", best_move)\n",
    "b1.move(best_move[0],best_move[1])\n",
    "b1"
   ]
  },
  {
   "cell_type": "code",
   "execution_count": 214,
   "id": "929ea67c",
   "metadata": {},
   "outputs": [
    {
     "name": "stdout",
     "output_type": "stream",
     "text": [
      "[[0, 1], [0, 2]]  scoresW= 1395.0  scoresB= 1550.0\n",
      "[[0, 1], [0, 3]]  scoresW= 1403.75  scoresB= 1550.0\n",
      "[[1, 1], [1, 2]]  scoresW= 1417.5  scoresB= 1550.0\n",
      "[[1, 1], [1, 3]]  scoresW= 1421.25  scoresB= 1545.0\n",
      "[[2, 1], [2, 2]]  scoresW= 1407.5  scoresB= 1550.0\n",
      "[[2, 1], [2, 3]]  scoresW= 1405.0  scoresB= 1550.0\n",
      "[[5, 1], [5, 2]]  scoresW= 1407.5  scoresB= 1540.0\n",
      "[[5, 1], [5, 3]]  scoresW= 1405.0  scoresB= 1550.0\n",
      "[[6, 1], [6, 2]]  scoresW= 1417.5  scoresB= 1550.0\n",
      "[[7, 1], [7, 2]]  scoresW= 1400.0  scoresB= 1550.0\n",
      "[[7, 1], [7, 3]]  scoresW= 1413.75  scoresB= 1550.0\n",
      "[[4, 0], [4, 1]]  scoresW= 1365.0  scoresB= 1545.0\n",
      "[[4, 0], [3, 1]]  scoresW= 1365.0  scoresB= 1550.0\n",
      "[[1, 0], [2, 2]]  scoresW= 1410.0  scoresB= 1550.0\n",
      "[[1, 0], [3, 1]]  scoresW= 1375.0  scoresB= 1550.0\n",
      "[[1, 0], [0, 2]]  scoresW= 1395.0  scoresB= 1550.0\n",
      "[[6, 0], [7, 2]]  scoresW= 1395.0  scoresB= 1550.0\n",
      "[[6, 0], [5, 2]]  scoresW= 1405.0  scoresB= 1540.0\n",
      "[[6, 0], [4, 1]]  scoresW= 1375.0  scoresB= 1545.0\n",
      "[[2, 0], [3, 1]]  scoresW= 1405.0  scoresB= 1550.0\n",
      "[[2, 0], [4, 2]]  scoresW= 1395.0  scoresB= 1550.0\n",
      "[[2, 0], [5, 3]]  scoresW= 1405.0  scoresB= 1550.0\n",
      "[[2, 0], [6, 4]]  scoresW= 1415.0  scoresB= 1545.0\n",
      "[[2, 0], [7, 5]]  scoresW= 1400.0  scoresB= 1550.0\n",
      "[[5, 0], [4, 1]]  scoresW= 1405.0  scoresB= 1545.0\n",
      "[[5, 0], [3, 2]]  scoresW= 1395.0  scoresB= 1550.0\n",
      "[[5, 0], [2, 3]]  scoresW= 1405.0  scoresB= 1550.0\n",
      "[[5, 0], [1, 4]]  scoresW= 1415.0  scoresB= 1550.0\n",
      "[[5, 0], [0, 5]]  scoresW= 1400.0  scoresB= 1550.0\n",
      "[[4, 3], [3, 4]]  scoresW= 1362.5  scoresB= 1517.5\n",
      "[[3, 3], [4, 4]]  scoresW= 1362.5  scoresB= 1512.5\n",
      "best_score= -123.75  best_move [[1, 1], [1, 3]]\n"
     ]
    },
    {
     "data": {
      "text/plain": [
       "♜♞.♛♚♝♞♜\n",
       "♟♟♟..♟♟♟\n",
       "........\n",
       "...♟♟...\n",
       ".♙.♙♙.♝.\n",
       "........\n",
       "♙.♙..♙♙♙\n",
       "♖♘♗.♔♗♘♖"
      ]
     },
     "execution_count": 214,
     "metadata": {},
     "output_type": "execute_result"
    }
   ],
   "source": [
    "best_move=0\n",
    "best_score=-1000\n",
    "for move in b1.get_legal_moves():\n",
    "    copy=Board.clone(b1)\n",
    "    copy.move(move[0],move[1])\n",
    "    score=copy.scores(Color.WHITE)-copy.scores(Color.BLACK)\n",
    "    if(score>best_score):\n",
    "        best_score=score\n",
    "        best_move=move\n",
    "    print(move, ' scoresW=', copy.scores(Color.WHITE), ' scoresB=', copy.scores(Color.BLACK))\n",
    "print(\"best_score=\",best_score,\" best_move\", best_move)\n",
    "b1.move(best_move[0],best_move[1])\n",
    "b1"
   ]
  },
  {
   "cell_type": "code",
   "execution_count": 215,
   "id": "7b1c831c",
   "metadata": {},
   "outputs": [
    {
     "name": "stdout",
     "output_type": "stream",
     "text": [
      "[[0, 6], [0, 5]]  scoresW= 1421.25  scoresB= 1545.0\n",
      "[[0, 6], [0, 4]]  scoresW= 1421.25  scoresB= 1553.75\n",
      "[[1, 6], [1, 5]]  scoresW= 1421.25  scoresB= 1557.5\n",
      "[[1, 6], [1, 4]]  scoresW= 1416.25  scoresB= 1561.25\n",
      "[[2, 6], [2, 5]]  scoresW= 1421.25  scoresB= 1572.5\n",
      "[[2, 6], [2, 4]]  scoresW= 1421.25  scoresB= 1575.0\n",
      "[[5, 6], [5, 5]]  scoresW= 1421.25  scoresB= 1542.5\n",
      "[[5, 6], [5, 4]]  scoresW= 1421.25  scoresB= 1550.0\n",
      "[[6, 6], [6, 5]]  scoresW= 1421.25  scoresB= 1567.5\n",
      "[[6, 6], [6, 4]]  scoresW= 1416.25  scoresB= 1561.25\n",
      "[[7, 6], [7, 5]]  scoresW= 1421.25  scoresB= 1550.0\n",
      "[[7, 6], [7, 4]]  scoresW= 1421.25  scoresB= 1558.75\n",
      "[[4, 7], [4, 6]]  scoresW= 1421.25  scoresB= 1505.0\n",
      "[[4, 7], [3, 6]]  scoresW= 1421.25  scoresB= 1525.0\n",
      "[[3, 7], [2, 7]]  scoresW= 1421.25  scoresB= 1525.0\n",
      "[[3, 7], [3, 6]]  scoresW= 1421.25  scoresB= 1540.0\n",
      "[[3, 7], [3, 5]]  scoresW= 1421.25  scoresB= 1555.0\n",
      "[[3, 7], [4, 6]]  scoresW= 1421.25  scoresB= 1530.0\n",
      "[[3, 7], [5, 5]]  scoresW= 1421.25  scoresB= 1580.0\n",
      "[[3, 7], [6, 4]]  scoresW= 1416.25  scoresB= 1570.0\n",
      "[[3, 7], [7, 3]]  scoresW= 1421.25  scoresB= 1560.0\n",
      "[[1, 7], [2, 5]]  scoresW= 1421.25  scoresB= 1570.0\n",
      "[[1, 7], [3, 6]]  scoresW= 1421.25  scoresB= 1545.0\n",
      "[[1, 7], [0, 5]]  scoresW= 1421.25  scoresB= 1560.0\n",
      "[[6, 7], [7, 5]]  scoresW= 1421.25  scoresB= 1545.0\n",
      "[[6, 7], [5, 5]]  scoresW= 1421.25  scoresB= 1540.0\n",
      "[[6, 7], [4, 6]]  scoresW= 1421.25  scoresB= 1520.0\n",
      "[[5, 7], [4, 6]]  scoresW= 1421.25  scoresB= 1535.0\n",
      "[[5, 7], [3, 5]]  scoresW= 1421.25  scoresB= 1540.0\n",
      "[[5, 7], [2, 4]]  scoresW= 1421.25  scoresB= 1555.0\n",
      "[[5, 7], [1, 3]]  scoresW= 1391.25  scoresB= 1570.0\n",
      "[[4, 4], [3, 3]]  scoresW= 1383.75  scoresB= 1512.5\n",
      "[[3, 4], [4, 3]]  scoresW= 1383.75  scoresB= 1517.5\n",
      "[[6, 3], [7, 4]]  scoresW= 1421.25  scoresB= 1525.0\n",
      "[[6, 3], [5, 4]]  scoresW= 1421.25  scoresB= 1535.0\n",
      "[[6, 3], [4, 5]]  scoresW= 1421.25  scoresB= 1525.0\n",
      "[[6, 3], [3, 6]]  scoresW= 1421.25  scoresB= 1525.0\n",
      "[[6, 3], [2, 7]]  scoresW= 1421.25  scoresB= 1520.0\n",
      "[[6, 3], [7, 2]]  scoresW= 1421.25  scoresB= 1530.0\n",
      "[[6, 3], [5, 2]]  scoresW= 1421.25  scoresB= 1530.0\n",
      "[[6, 3], [4, 1]]  scoresW= 1401.25  scoresB= 1545.0\n",
      "[[6, 3], [3, 0]]  scoresW= 1421.25  scoresB= 1525.0\n",
      "best_score= 178.75  best_move [[5, 7], [1, 3]]\n"
     ]
    },
    {
     "data": {
      "text/plain": [
       "♜♞.♛♚.♞♜\n",
       "♟♟♟..♟♟♟\n",
       "........\n",
       "...♟♟...\n",
       ".♝.♙♙.♝.\n",
       "........\n",
       "♙.♙..♙♙♙\n",
       "♖♘♗.♔♗♘♖"
      ]
     },
     "execution_count": 215,
     "metadata": {},
     "output_type": "execute_result"
    }
   ],
   "source": [
    "best_move=0\n",
    "best_score=-1000\n",
    "for move in b1.get_legal_moves():\n",
    "    copy=Board.clone(b1)\n",
    "    copy.move(move[0],move[1])\n",
    "    score=copy.scores(Color.BLACK)-copy.scores(Color.WHITE)\n",
    "    if(score>best_score):\n",
    "        best_score=score\n",
    "        best_move=move\n",
    "    print(move, ' scoresW=', copy.scores(Color.WHITE), ' scoresB=', copy.scores(Color.BLACK))\n",
    "print(\"best_score=\",best_score,\" best_move\", best_move)\n",
    "b1.move(best_move[0],best_move[1])\n",
    "b1"
   ]
  },
  {
   "cell_type": "code",
   "execution_count": null,
   "id": "70831897",
   "metadata": {},
   "outputs": [],
   "source": []
  },
  {
   "cell_type": "code",
   "execution_count": null,
   "id": "37fed872",
   "metadata": {},
   "outputs": [],
   "source": []
  },
  {
   "cell_type": "code",
   "execution_count": null,
   "id": "0fe51e6a",
   "metadata": {},
   "outputs": [],
   "source": []
  },
  {
   "cell_type": "code",
   "execution_count": null,
   "id": "3dc0c1b4",
   "metadata": {},
   "outputs": [],
   "source": []
  },
  {
   "cell_type": "code",
   "execution_count": null,
   "id": "77cd86cc",
   "metadata": {},
   "outputs": [],
   "source": []
  },
  {
   "cell_type": "code",
   "execution_count": 94,
   "id": "dd3d1a8c",
   "metadata": {},
   "outputs": [
    {
     "name": "stdout",
     "output_type": "stream",
     "text": [
      "Pawn on  0   1  score= 5.0\n",
      "count_pawn_on_line= 1\n",
      "Pawn on  1   1  score= 20.0\n",
      "count_pawn_on_line= 1  count_neigbor= 2\n",
      "Pawn on  2   1  score= 20.0\n",
      "count_pawn_on_line= 1  count_neigbor= 2\n",
      "Pawn on  3   1  score= 20.0\n",
      "count_pawn_on_line= 1  count_neigbor= 2\n",
      "Pawn on  4   1  score= 20.0\n",
      "count_pawn_on_line= 1  count_neigbor= 2\n",
      "Pawn on  5   1  score= 20.0\n",
      "count_pawn_on_line= 1  count_neigbor= 2\n",
      "Pawn on  6   1  score= 20.0\n",
      "count_pawn_on_line= 1  count_neigbor= 2\n",
      "Pawn on  7   1  score= 5.0\n",
      "count_pawn_on_line= 1\n",
      "Queen  on  3   0  score= 0\n",
      "Knight  on  1   0  score= 20\n",
      "Knight  on  6   0  score= 20\n",
      "Bishop  on  2   0  score= 0\n",
      "Bishop  on  5   0  score= 0\n",
      "Rook  on  0   0  score= 0\n",
      "Rook  on  7   0  score= 0\n"
     ]
    },
    {
     "data": {
      "text/plain": [
       "1070.0"
      ]
     },
     "execution_count": 94,
     "metadata": {},
     "output_type": "execute_result"
    }
   ],
   "source": [
    "b1.scores(Color.WHITE)"
   ]
  },
  {
   "cell_type": "code",
   "execution_count": 99,
   "id": "c2f6f1cc",
   "metadata": {},
   "outputs": [
    {
     "data": {
      "text/plain": [
       "♜♞♝♛♚♝♞♜\n",
       "♟♟♟♟♟♟♟♟\n",
       "........\n",
       "........\n",
       "....♙...\n",
       "........\n",
       "♙♙♙♙.♙♙♙\n",
       "♖♘♗♕♔♗♘♖"
      ]
     },
     "execution_count": 99,
     "metadata": {},
     "output_type": "execute_result"
    }
   ],
   "source": [
    "b1"
   ]
  },
  {
   "cell_type": "code",
   "execution_count": 96,
   "id": "f5f929db",
   "metadata": {},
   "outputs": [
    {
     "name": "stdout",
     "output_type": "stream",
     "text": [
      "Pawn on  0   6  score= 5.0\n",
      "count_pawn_on_line= 1\n",
      "Pawn on  1   6  score= 20.0\n",
      "count_pawn_on_line= 1  count_neigbor= 2\n",
      "Pawn on  2   6  score= 20.0\n",
      "count_pawn_on_line= 1  count_neigbor= 2\n",
      "Pawn on  3   6  score= 20.0\n",
      "count_pawn_on_line= 1  count_neigbor= 2\n",
      "Pawn on  4   6  score= 20.0\n",
      "count_pawn_on_line= 1  count_neigbor= 2\n",
      "Pawn on  5   6  score= 20.0\n",
      "count_pawn_on_line= 1  count_neigbor= 2\n",
      "Pawn on  6   6  score= 20.0\n",
      "count_pawn_on_line= 1  count_neigbor= 2\n",
      "Pawn on  7   6  score= 5.0\n",
      "count_pawn_on_line= 1\n",
      "Queen  on  3   7  score= 0\n",
      "Knight  on  1   7  score= 20\n",
      "Knight  on  6   7  score= 20\n",
      "Bishop  on  2   7  score= 0\n",
      "Bishop  on  5   7  score= 0\n",
      "Rook  on  0   7  score= 0\n",
      "Rook  on  7   7  score= 0\n"
     ]
    },
    {
     "data": {
      "text/plain": [
       "1070.0"
      ]
     },
     "execution_count": 96,
     "metadata": {},
     "output_type": "execute_result"
    }
   ],
   "source": [
    "b1.scores(Color.BLACK)"
   ]
  },
  {
   "cell_type": "code",
   "execution_count": 42,
   "id": "2b1d4127",
   "metadata": {},
   "outputs": [],
   "source": [
    "l=b1.get_legal_moves()"
   ]
  },
  {
   "cell_type": "code",
   "execution_count": 98,
   "id": "8c7afd19",
   "metadata": {},
   "outputs": [
    {
     "ename": "Exception",
     "evalue": "Error! Не Ваш ход!",
     "output_type": "error",
     "traceback": [
      "\u001b[0;31m---------------------------------------------------------------------------\u001b[0m",
      "\u001b[0;31mException\u001b[0m                                 Traceback (most recent call last)",
      "\u001b[0;32m<ipython-input-98-cbc259cbf132>\u001b[0m in \u001b[0;36m<module>\u001b[0;34m\u001b[0m\n\u001b[0;32m----> 1\u001b[0;31m \u001b[0mb1\u001b[0m\u001b[0;34m.\u001b[0m\u001b[0mmove\u001b[0m\u001b[0;34m(\u001b[0m\u001b[0;34m[\u001b[0m\u001b[0;36m4\u001b[0m\u001b[0;34m,\u001b[0m\u001b[0;36m1\u001b[0m\u001b[0;34m]\u001b[0m\u001b[0;34m,\u001b[0m\u001b[0;34m[\u001b[0m\u001b[0;36m4\u001b[0m\u001b[0;34m,\u001b[0m\u001b[0;36m3\u001b[0m\u001b[0;34m]\u001b[0m\u001b[0;34m)\u001b[0m\u001b[0;34m\u001b[0m\u001b[0;34m\u001b[0m\u001b[0m\n\u001b[0m",
      "\u001b[0;32m<ipython-input-91-bbab0f9cdb87>\u001b[0m in \u001b[0;36mmove\u001b[0;34m(self, xy_from, xy_to)\u001b[0m\n\u001b[1;32m     54\u001b[0m         \u001b[0;31m#тут должны быть проверки!!!\u001b[0m\u001b[0;34m\u001b[0m\u001b[0;34m\u001b[0m\u001b[0;34m\u001b[0m\u001b[0m\n\u001b[1;32m     55\u001b[0m         \u001b[0;32mif\u001b[0m\u001b[0;34m(\u001b[0m\u001b[0mself\u001b[0m\u001b[0;34m.\u001b[0m\u001b[0mboard\u001b[0m\u001b[0;34m[\u001b[0m\u001b[0mxy_from\u001b[0m\u001b[0;34m[\u001b[0m\u001b[0;36m1\u001b[0m\u001b[0;34m]\u001b[0m\u001b[0;34m]\u001b[0m\u001b[0;34m[\u001b[0m\u001b[0mxy_from\u001b[0m\u001b[0;34m[\u001b[0m\u001b[0;36m0\u001b[0m\u001b[0;34m]\u001b[0m\u001b[0;34m]\u001b[0m\u001b[0;34m.\u001b[0m\u001b[0mcolor\u001b[0m\u001b[0;34m!=\u001b[0m\u001b[0mself\u001b[0m\u001b[0;34m.\u001b[0m\u001b[0mwhose_move\u001b[0m\u001b[0;34m)\u001b[0m\u001b[0;34m:\u001b[0m\u001b[0;34m\u001b[0m\u001b[0;34m\u001b[0m\u001b[0m\n\u001b[0;32m---> 56\u001b[0;31m             \u001b[0;32mraise\u001b[0m \u001b[0mException\u001b[0m\u001b[0;34m(\u001b[0m\u001b[0;34m\"Error! Не Ваш ход!\"\u001b[0m\u001b[0;34m)\u001b[0m\u001b[0;34m\u001b[0m\u001b[0;34m\u001b[0m\u001b[0m\n\u001b[0m\u001b[1;32m     57\u001b[0m \u001b[0;34m\u001b[0m\u001b[0m\n\u001b[1;32m     58\u001b[0m         \u001b[0menemy_color\u001b[0m\u001b[0;34m=\u001b[0m\u001b[0mColor\u001b[0m\u001b[0;34m.\u001b[0m\u001b[0mWHITE\u001b[0m\u001b[0;34m+\u001b[0m\u001b[0mColor\u001b[0m\u001b[0;34m.\u001b[0m\u001b[0mBLACK\u001b[0m\u001b[0;34m-\u001b[0m\u001b[0mself\u001b[0m\u001b[0;34m.\u001b[0m\u001b[0mwhose_move\u001b[0m\u001b[0;34m\u001b[0m\u001b[0;34m\u001b[0m\u001b[0m\n",
      "\u001b[0;31mException\u001b[0m: Error! Не Ваш ход!"
     ]
    }
   ],
   "source": [
    "b1.move([4,1],[4,3])"
   ]
  },
  {
   "cell_type": "code",
   "execution_count": 100,
   "id": "6e7e5f02",
   "metadata": {},
   "outputs": [
    {
     "name": "stdout",
     "output_type": "stream",
     "text": [
      "Pawn on  0   1  score= 5.0\n",
      "count_pawn_on_line= 1\n",
      "Pawn on  1   1  score= 20.0\n",
      "count_pawn_on_line= 1  count_neigbor= 2\n",
      "Pawn on  2   1  score= 20.0\n",
      "count_pawn_on_line= 1  count_neigbor= 2\n",
      "Pawn on  3   1  score= 15.0\n",
      "count_pawn_on_line= 1  count_neigbor= 1\n",
      "Pawn on  5   1  score= 15.0\n",
      "count_pawn_on_line= 1  count_neigbor= 1\n",
      "Pawn on  6   1  score= 20.0\n",
      "count_pawn_on_line= 1  count_neigbor= 2\n",
      "Pawn on  7   1  score= 5.0\n",
      "count_pawn_on_line= 1\n",
      "Queen  on  3   0  score= 40\n",
      "Knight  on  1   0  score= 20\n",
      "Knight  on  6   0  score= 30\n",
      "Bishop  on  2   0  score= 0\n",
      "Bishop  on  5   0  score= 50\n",
      "Rook  on  0   0  score= 0\n",
      "Rook  on  7   0  score= 0\n",
      "Pawn on  4   3  score= 30.0\n",
      "count_pawn_on_line= 1  count_neigbor= 0\n"
     ]
    },
    {
     "data": {
      "text/plain": [
       "1170.0"
      ]
     },
     "execution_count": 100,
     "metadata": {},
     "output_type": "execute_result"
    }
   ],
   "source": [
    "b1.scores(Color.WHITE)"
   ]
  },
  {
   "cell_type": "code",
   "execution_count": 101,
   "id": "a7662c0c",
   "metadata": {},
   "outputs": [
    {
     "name": "stdout",
     "output_type": "stream",
     "text": [
      "Pawn on  0   6  score= 5.0\n",
      "count_pawn_on_line= 1\n",
      "Pawn on  1   6  score= 20.0\n",
      "count_pawn_on_line= 1  count_neigbor= 2\n",
      "Pawn on  2   6  score= 20.0\n",
      "count_pawn_on_line= 1  count_neigbor= 2\n",
      "Pawn on  3   6  score= 20.0\n",
      "count_pawn_on_line= 1  count_neigbor= 2\n",
      "Pawn on  4   6  score= 20.0\n",
      "count_pawn_on_line= 1  count_neigbor= 2\n",
      "Pawn on  5   6  score= 20.0\n",
      "count_pawn_on_line= 1  count_neigbor= 2\n",
      "Pawn on  6   6  score= 20.0\n",
      "count_pawn_on_line= 1  count_neigbor= 2\n",
      "Pawn on  7   6  score= 5.0\n",
      "count_pawn_on_line= 1\n",
      "Queen  on  3   7  score= 0\n",
      "Knight  on  1   7  score= 20\n",
      "Knight  on  6   7  score= 20\n",
      "Bishop  on  2   7  score= 0\n",
      "Bishop  on  5   7  score= 0\n",
      "Rook  on  0   7  score= 0\n",
      "Rook  on  7   7  score= 0\n"
     ]
    },
    {
     "data": {
      "text/plain": [
       "1070.0"
      ]
     },
     "execution_count": 101,
     "metadata": {},
     "output_type": "execute_result"
    }
   ],
   "source": [
    "b1.scores(Color.BLACK)"
   ]
  },
  {
   "cell_type": "code",
   "execution_count": 102,
   "id": "ad4a6d28",
   "metadata": {},
   "outputs": [],
   "source": [
    "b1.move([3,6],[3,4])\n",
    "b1.move([4,3],[3,4])\n",
    "b1.move([4,6],[4,4])"
   ]
  },
  {
   "cell_type": "code",
   "execution_count": 103,
   "id": "f162ca7b",
   "metadata": {},
   "outputs": [
    {
     "data": {
      "text/plain": [
       "♜♞♝♛♚♝♞♜\n",
       "♟♟♟..♟♟♟\n",
       "........\n",
       "...♙♟...\n",
       "........\n",
       "........\n",
       "♙♙♙♙.♙♙♙\n",
       "♖♘♗♕♔♗♘♖"
      ]
     },
     "execution_count": 103,
     "metadata": {},
     "output_type": "execute_result"
    }
   ],
   "source": [
    "b1"
   ]
  },
  {
   "cell_type": "code",
   "execution_count": 104,
   "id": "dfb7ba9a",
   "metadata": {},
   "outputs": [
    {
     "name": "stdout",
     "output_type": "stream",
     "text": [
      "Pawn on  0   1  score= 5.0\n",
      "count_pawn_on_line= 1\n",
      "Pawn on  1   1  score= 20.0\n",
      "count_pawn_on_line= 1  count_neigbor= 2\n",
      "Pawn on  2   1  score= 20.0\n",
      "count_pawn_on_line= 1  count_neigbor= 2\n",
      "Pawn on  3   1  score= 7.5\n",
      "count_pawn_on_line= 2  count_neigbor= 1\n",
      "Pawn on  5   1  score= 15.0\n",
      "count_pawn_on_line= 1  count_neigbor= 1\n",
      "Pawn on  6   1  score= 20.0\n",
      "count_pawn_on_line= 1  count_neigbor= 2\n",
      "Pawn on  7   1  score= 5.0\n",
      "count_pawn_on_line= 1\n",
      "Queen  on  3   0  score= 40\n",
      "Knight  on  1   0  score= 20\n",
      "Knight  on  6   0  score= 30\n",
      "Bishop  on  2   0  score= 0\n",
      "Bishop  on  5   0  score= 50\n",
      "Rook  on  0   0  score= 0\n",
      "Rook  on  7   0  score= 0\n",
      "Pawn on  3   4  score= 20.0\n",
      "count_pawn_on_line= 2  count_neigbor= 0\n"
     ]
    },
    {
     "data": {
      "text/plain": [
       "1152.5"
      ]
     },
     "execution_count": 104,
     "metadata": {},
     "output_type": "execute_result"
    }
   ],
   "source": [
    "b1.scores(Color.WHITE)"
   ]
  },
  {
   "cell_type": "code",
   "execution_count": 105,
   "id": "da9fc716",
   "metadata": {},
   "outputs": [
    {
     "name": "stdout",
     "output_type": "stream",
     "text": [
      "Pawn on  0   6  score= 5.0\n",
      "count_pawn_on_line= 1\n",
      "Pawn on  1   6  score= 20.0\n",
      "count_pawn_on_line= 1  count_neigbor= 2\n",
      "Pawn on  2   6  score= 15.0\n",
      "count_pawn_on_line= 1  count_neigbor= 1\n",
      "Pawn on  5   6  score= 15.0\n",
      "count_pawn_on_line= 1  count_neigbor= 1\n",
      "Pawn on  6   6  score= 20.0\n",
      "count_pawn_on_line= 1  count_neigbor= 2\n",
      "Pawn on  7   6  score= 5.0\n",
      "count_pawn_on_line= 1\n",
      "Queen  on  3   7  score= 70\n",
      "Knight  on  1   7  score= 30\n",
      "Knight  on  6   7  score= 30\n",
      "Bishop  on  2   7  score= 50\n",
      "Bishop  on  5   7  score= 50\n",
      "Rook  on  0   7  score= 0\n",
      "Rook  on  7   7  score= 0\n",
      "Pawn on  4   4  score= 30.0\n",
      "count_pawn_on_line= 1  count_neigbor= 0\n"
     ]
    },
    {
     "data": {
      "text/plain": [
       "1240.0"
      ]
     },
     "execution_count": 105,
     "metadata": {},
     "output_type": "execute_result"
    }
   ],
   "source": [
    "b1.scores(Color.BLACK)"
   ]
  },
  {
   "cell_type": "code",
   "execution_count": 109,
   "id": "71abc35c",
   "metadata": {},
   "outputs": [
    {
     "name": "stdout",
     "output_type": "stream",
     "text": [
      "Pawn on  0   1  score= 5.0\n",
      "count_pawn_on_line= 1\n",
      "Pawn on  1   1  score= 20.0\n",
      "count_pawn_on_line= 1  count_neigbor= 2\n",
      "Pawn on  2   1  score= 20.0\n",
      "count_pawn_on_line= 1  count_neigbor= 2\n",
      "Pawn on  3   1  score= 15.0\n",
      "count_pawn_on_line= 1  count_neigbor= 1\n",
      "Pawn on  5   1  score= 15.0\n",
      "count_pawn_on_line= 1  count_neigbor= 1\n",
      "Pawn on  6   1  score= 20.0\n",
      "count_pawn_on_line= 1  count_neigbor= 2\n",
      "Pawn on  7   1  score= 5.0\n",
      "count_pawn_on_line= 1\n",
      "Queen  on  3   0  score= 40\n",
      "Knight  on  1   0  score= 20\n",
      "Knight  on  6   0  score= 30\n",
      "Bishop  on  2   0  score= 0\n",
      "Bishop  on  5   0  score= 50\n",
      "Rook  on  0   0  score= 0\n",
      "Rook  on  7   0  score= 0\n",
      "Pawn on  4   5  score= 50.0\n",
      "count_pawn_on_line= 1  count_neigbor= 0\n"
     ]
    },
    {
     "data": {
      "text/plain": [
       "1190.0"
      ]
     },
     "execution_count": 109,
     "metadata": {},
     "output_type": "execute_result"
    }
   ],
   "source": [
    "b1.scores(Color.WHITE)"
   ]
  },
  {
   "cell_type": "code",
   "execution_count": 110,
   "id": "262afe95",
   "metadata": {},
   "outputs": [
    {
     "name": "stdout",
     "output_type": "stream",
     "text": [
      "Pawn on  0   6  score= 5.0\n",
      "count_pawn_on_line= 1\n",
      "Pawn on  1   6  score= 20.0\n",
      "count_pawn_on_line= 1  count_neigbor= 2\n",
      "Pawn on  2   6  score= 15.0\n",
      "count_pawn_on_line= 1  count_neigbor= 1\n",
      "Pawn on  5   6  score= 15.0\n",
      "count_pawn_on_line= 1  count_neigbor= 1\n",
      "Pawn on  6   6  score= 20.0\n",
      "count_pawn_on_line= 1  count_neigbor= 2\n",
      "Pawn on  7   6  score= 5.0\n",
      "count_pawn_on_line= 1\n",
      "Queen  on  3   7  score= 70\n",
      "Knight  on  1   7  score= 30\n",
      "Knight  on  6   7  score= 30\n",
      "Bishop  on  2   7  score= 20\n",
      "Bishop  on  5   7  score= 50\n",
      "Rook  on  0   7  score= 0\n",
      "Rook  on  7   7  score= 0\n"
     ]
    },
    {
     "data": {
      "text/plain": [
       "1180.0"
      ]
     },
     "execution_count": 110,
     "metadata": {},
     "output_type": "execute_result"
    }
   ],
   "source": [
    "b1.scores(Color.BLACK)"
   ]
  },
  {
   "cell_type": "code",
   "execution_count": 108,
   "id": "1f174c68",
   "metadata": {},
   "outputs": [
    {
     "data": {
      "text/plain": [
       "♜♞♝♛♚♝♞♜\n",
       "♟♟♟..♟♟♟\n",
       "....♙...\n",
       "........\n",
       "........\n",
       "........\n",
       "♙♙♙♙.♙♙♙\n",
       "♖♘♗♕♔♗♘♖"
      ]
     },
     "execution_count": 108,
     "metadata": {},
     "output_type": "execute_result"
    }
   ],
   "source": [
    "b1"
   ]
  },
  {
   "cell_type": "code",
   "execution_count": 107,
   "id": "fba35c3c",
   "metadata": {},
   "outputs": [],
   "source": [
    "b1.move([3,4],[4,5])"
   ]
  },
  {
   "cell_type": "code",
   "execution_count": null,
   "id": "490e962d",
   "metadata": {},
   "outputs": [],
   "source": []
  },
  {
   "cell_type": "code",
   "execution_count": 48,
   "id": "8e3a7d1b",
   "metadata": {},
   "outputs": [
    {
     "data": {
      "text/plain": [
       "[[[0, 6], [[0, 5], [0, 4]]],\n",
       " [[1, 6], [[1, 5], [1, 4]]],\n",
       " [[2, 6], [[2, 5], [2, 4]]],\n",
       " [[3, 6], [[3, 5], [3, 4]]],\n",
       " [[4, 6], [[4, 5], [4, 4]]],\n",
       " [[5, 6], [[5, 5], [5, 4]]],\n",
       " [[6, 6], [[6, 5], [6, 4]]],\n",
       " [[7, 6], [[7, 5], [7, 4]]],\n",
       " [[4, 7], []],\n",
       " [[3, 7], []],\n",
       " [[1, 7], [[2, 5], [0, 5]]],\n",
       " [[6, 7], [[7, 5], [5, 5]]],\n",
       " [[2, 7], []],\n",
       " [[5, 7], []],\n",
       " [[0, 7], []],\n",
       " [[7, 7], []]]"
      ]
     },
     "execution_count": 48,
     "metadata": {},
     "output_type": "execute_result"
    }
   ],
   "source": [
    "b1.get_legal_moves()"
   ]
  },
  {
   "cell_type": "code",
   "execution_count": 66,
   "id": "2384f019",
   "metadata": {},
   "outputs": [],
   "source": [
    "b1.move([4,6],[4,4])"
   ]
  },
  {
   "cell_type": "code",
   "execution_count": 67,
   "id": "a3b52d6f",
   "metadata": {},
   "outputs": [
    {
     "data": {
      "text/plain": [
       "♜♞♝♛♚♝♞♜\n",
       "♟♟♟..♟♟♟\n",
       "........\n",
       "...♙♟...\n",
       "........\n",
       "........\n",
       "♙♙♙♙.♙♙♙\n",
       "♖♘♗♕♔♗♘♖"
      ]
     },
     "execution_count": 67,
     "metadata": {},
     "output_type": "execute_result"
    }
   ],
   "source": [
    "b1"
   ]
  },
  {
   "cell_type": "code",
   "execution_count": 68,
   "id": "b7c1cbe0",
   "metadata": {},
   "outputs": [
    {
     "ename": "NameError",
     "evalue": "name 'y' is not defined",
     "output_type": "error",
     "traceback": [
      "\u001b[0;31m---------------------------------------------------------------------------\u001b[0m",
      "\u001b[0;31mNameError\u001b[0m                                 Traceback (most recent call last)",
      "\u001b[0;32m<ipython-input-68-da117083bb17>\u001b[0m in \u001b[0;36m<module>\u001b[0;34m\u001b[0m\n\u001b[0;32m----> 1\u001b[0;31m \u001b[0mb1\u001b[0m\u001b[0;34m.\u001b[0m\u001b[0mmove\u001b[0m\u001b[0;34m(\u001b[0m\u001b[0;34m[\u001b[0m\u001b[0;36m3\u001b[0m\u001b[0;34m,\u001b[0m\u001b[0;36m4\u001b[0m\u001b[0;34m]\u001b[0m\u001b[0;34m,\u001b[0m\u001b[0;34m[\u001b[0m\u001b[0;36m4\u001b[0m\u001b[0;34m,\u001b[0m\u001b[0;36m5\u001b[0m\u001b[0;34m]\u001b[0m\u001b[0;34m)\u001b[0m\u001b[0;34m\u001b[0m\u001b[0;34m\u001b[0m\u001b[0m\n\u001b[0m",
      "\u001b[0;32m<ipython-input-51-7634ee4af030>\u001b[0m in \u001b[0;36mmove\u001b[0;34m(self, xy_from, xy_to)\u001b[0m\n\u001b[1;32m     57\u001b[0m \u001b[0;34m\u001b[0m\u001b[0m\n\u001b[1;32m     58\u001b[0m         \u001b[0menemy_color\u001b[0m\u001b[0;34m=\u001b[0m\u001b[0mColor\u001b[0m\u001b[0;34m.\u001b[0m\u001b[0mWHITE\u001b[0m\u001b[0;34m+\u001b[0m\u001b[0mColor\u001b[0m\u001b[0;34m.\u001b[0m\u001b[0mBLACK\u001b[0m\u001b[0;34m-\u001b[0m\u001b[0mself\u001b[0m\u001b[0;34m.\u001b[0m\u001b[0mwhose_move\u001b[0m\u001b[0;34m\u001b[0m\u001b[0;34m\u001b[0m\u001b[0m\n\u001b[0;32m---> 59\u001b[0;31m         \u001b[0mlegal_moves\u001b[0m\u001b[0;34m=\u001b[0m\u001b[0mself\u001b[0m\u001b[0;34m.\u001b[0m\u001b[0mget_moves\u001b[0m\u001b[0;34m(\u001b[0m\u001b[0mxy_from\u001b[0m\u001b[0;34m[\u001b[0m\u001b[0;36m0\u001b[0m\u001b[0;34m]\u001b[0m\u001b[0;34m,\u001b[0m\u001b[0mxy_from\u001b[0m\u001b[0;34m[\u001b[0m\u001b[0;36m1\u001b[0m\u001b[0;34m]\u001b[0m\u001b[0;34m)\u001b[0m\u001b[0;34m\u001b[0m\u001b[0;34m\u001b[0m\u001b[0m\n\u001b[0m\u001b[1;32m     60\u001b[0m         \u001b[0;32mif\u001b[0m \u001b[0mxy_to\u001b[0m \u001b[0;32min\u001b[0m \u001b[0mlegal_moves\u001b[0m\u001b[0;34m:\u001b[0m\u001b[0;34m\u001b[0m\u001b[0;34m\u001b[0m\u001b[0m\n\u001b[1;32m     61\u001b[0m             \u001b[0;31m#было ли взятие на проходе\u001b[0m\u001b[0;34m\u001b[0m\u001b[0;34m\u001b[0m\u001b[0;34m\u001b[0m\u001b[0m\n",
      "\u001b[0;32m<ipython-input-51-7634ee4af030>\u001b[0m in \u001b[0;36mget_moves\u001b[0;34m(self, x, y)\u001b[0m\n\u001b[1;32m     85\u001b[0m             \u001b[0;32mraise\u001b[0m \u001b[0mException\u001b[0m\u001b[0;34m(\u001b[0m\u001b[0;34m\"Error! Ход не корректен!\"\u001b[0m\u001b[0;34m)\u001b[0m\u001b[0;34m\u001b[0m\u001b[0;34m\u001b[0m\u001b[0m\n\u001b[1;32m     86\u001b[0m     \u001b[0;32mdef\u001b[0m \u001b[0mget_moves\u001b[0m\u001b[0;34m(\u001b[0m\u001b[0mself\u001b[0m\u001b[0;34m,\u001b[0m\u001b[0mx\u001b[0m\u001b[0;34m,\u001b[0m\u001b[0my\u001b[0m\u001b[0;34m)\u001b[0m\u001b[0;34m:\u001b[0m\u001b[0;34m\u001b[0m\u001b[0;34m\u001b[0m\u001b[0m\n\u001b[0;32m---> 87\u001b[0;31m         \u001b[0;32mreturn\u001b[0m \u001b[0mself\u001b[0m\u001b[0;34m.\u001b[0m\u001b[0mboard\u001b[0m\u001b[0;34m[\u001b[0m\u001b[0my\u001b[0m\u001b[0;34m]\u001b[0m\u001b[0;34m[\u001b[0m\u001b[0mx\u001b[0m\u001b[0;34m]\u001b[0m\u001b[0;34m.\u001b[0m\u001b[0mget_moves\u001b[0m\u001b[0;34m(\u001b[0m\u001b[0mself\u001b[0m\u001b[0;34m.\u001b[0m\u001b[0mboard\u001b[0m\u001b[0;34m,\u001b[0m\u001b[0mself\u001b[0m\u001b[0;34m.\u001b[0m\u001b[0mlast_move\u001b[0m\u001b[0;34m)\u001b[0m\u001b[0;34m\u001b[0m\u001b[0;34m\u001b[0m\u001b[0m\n\u001b[0m\u001b[1;32m     88\u001b[0m     \u001b[0;32mdef\u001b[0m \u001b[0mscores\u001b[0m\u001b[0;34m(\u001b[0m\u001b[0mself\u001b[0m\u001b[0;34m,\u001b[0m \u001b[0mcolor\u001b[0m\u001b[0;34m)\u001b[0m\u001b[0;34m:\u001b[0m\u001b[0;34m\u001b[0m\u001b[0;34m\u001b[0m\u001b[0m\n\u001b[1;32m     89\u001b[0m         \u001b[0mscores\u001b[0m\u001b[0;34m=\u001b[0m\u001b[0;36m0\u001b[0m\u001b[0;34m\u001b[0m\u001b[0;34m\u001b[0m\u001b[0m\n",
      "\u001b[0;32m<ipython-input-15-94b94a46f261>\u001b[0m in \u001b[0;36mget_moves\u001b[0;34m(self, board, last_move)\u001b[0m\n\u001b[1;32m    105\u001b[0m             \u001b[0mlast_xy_to\u001b[0m\u001b[0;34m=\u001b[0m\u001b[0mlast_move\u001b[0m\u001b[0;34m[\u001b[0m\u001b[0;36m1\u001b[0m\u001b[0;34m]\u001b[0m \u001b[0;31m#это должен быть ход пешкой на 2 клетки вперед\u001b[0m\u001b[0;34m\u001b[0m\u001b[0;34m\u001b[0m\u001b[0m\n\u001b[1;32m    106\u001b[0m                                     \u001b[0;31m#тогда ее можно подрезать\u001b[0m\u001b[0;34m\u001b[0m\u001b[0;34m\u001b[0m\u001b[0;34m\u001b[0m\u001b[0m\n\u001b[0;32m--> 107\u001b[0;31m             if(self.y==3+(self.color==Color.WHITE) and last_xy_to[1]==y and abs_(self.x-last_xy_to[0])==1 \n\u001b[0m\u001b[1;32m    108\u001b[0m             and board[last_xy_to[1]][last_xy_to[0]].NAME=='Pawn' ):\n\u001b[1;32m    109\u001b[0m                 \u001b[0mlegal_moves\u001b[0m\u001b[0;34m.\u001b[0m\u001b[0mappend\u001b[0m\u001b[0;34m(\u001b[0m\u001b[0;34m[\u001b[0m\u001b[0mlast_xy_to\u001b[0m\u001b[0;34m[\u001b[0m\u001b[0;36m0\u001b[0m\u001b[0;34m]\u001b[0m\u001b[0;34m,\u001b[0m\u001b[0mself\u001b[0m\u001b[0;34m.\u001b[0m\u001b[0my\u001b[0m\u001b[0;34m+\u001b[0m\u001b[0mself\u001b[0m\u001b[0;34m.\u001b[0m\u001b[0mcolor\u001b[0m\u001b[0;34m-\u001b[0m\u001b[0menemy_color\u001b[0m\u001b[0;34m]\u001b[0m\u001b[0;34m)\u001b[0m\u001b[0;34m\u001b[0m\u001b[0;34m\u001b[0m\u001b[0m\n",
      "\u001b[0;31mNameError\u001b[0m: name 'y' is not defined"
     ]
    }
   ],
   "source": [
    "b1.move([3,4],[4,5])"
   ]
  },
  {
   "cell_type": "code",
   "execution_count": 52,
   "id": "6e8d3426",
   "metadata": {},
   "outputs": [
    {
     "data": {
      "text/plain": [
       "[[[0, 1], [[0, 2], [0, 3]]],\n",
       " [[1, 1], [[1, 2], [1, 3]]],\n",
       " [[2, 1], [[2, 2], [2, 3]]],\n",
       " [[3, 1], [[3, 2], [3, 3]]],\n",
       " [[5, 1], [[5, 2], [5, 3]]],\n",
       " [[6, 1], [[6, 2], [6, 3]]],\n",
       " [[7, 1], [[7, 2], [7, 3]]],\n",
       " [[4, 0], [[4, 1]]],\n",
       " [[3, 0], [[4, 1], [5, 2], [6, 3], [7, 4]]],\n",
       " [[1, 0], [[2, 2], [0, 2]]],\n",
       " [[6, 0], [[7, 2], [5, 2], [4, 1]]],\n",
       " [[2, 0], []],\n",
       " [[5, 0], [[4, 1], [3, 2], [2, 3], [1, 4], [0, 5]]],\n",
       " [[0, 0], []],\n",
       " [[7, 0], []],\n",
       " [[4, 3], [[3, 4], [4, 4]]]]"
      ]
     },
     "execution_count": 52,
     "metadata": {},
     "output_type": "execute_result"
    }
   ],
   "source": [
    "b1.get_legal_moves()"
   ]
  },
  {
   "cell_type": "code",
   "execution_count": null,
   "id": "e938375d",
   "metadata": {},
   "outputs": [],
   "source": []
  }
 ],
 "metadata": {
  "kernelspec": {
   "display_name": "Python 3",
   "language": "python",
   "name": "python3"
  },
  "language_info": {
   "codemirror_mode": {
    "name": "ipython",
    "version": 3
   },
   "file_extension": ".py",
   "mimetype": "text/x-python",
   "name": "python",
   "nbconvert_exporter": "python",
   "pygments_lexer": "ipython3",
   "version": "3.8.8"
  }
 },
 "nbformat": 4,
 "nbformat_minor": 5
}
